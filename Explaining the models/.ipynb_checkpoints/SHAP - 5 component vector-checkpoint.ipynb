{
 "cells": [
  {
   "cell_type": "code",
   "execution_count": 149,
   "id": "australian-sarah",
   "metadata": {},
   "outputs": [],
   "source": [
    "import shap\n",
    "from Bio import AlignIO\n",
    "import pandas as pd\n",
    "import numpy as np\n",
    "\n",
    "import xgboost as xgb\n",
    "from sklearn.model_selection import train_test_split\n",
    "\n",
    "import seaborn as sns\n",
    "\n",
    "SEED=25"
   ]
  },
  {
   "cell_type": "code",
   "execution_count": 2,
   "id": "falling-plasma",
   "metadata": {},
   "outputs": [],
   "source": [
    "%config InlineBackend.figure_format = 'retina'"
   ]
  },
  {
   "cell_type": "code",
   "execution_count": 3,
   "id": "electoral-minnesota",
   "metadata": {},
   "outputs": [
    {
     "name": "stdout",
     "output_type": "stream",
     "text": [
      "Array shape 383 by 1000\n"
     ]
    }
   ],
   "source": [
    "# Extracting sequences as multiple alignments into a numpy array \n",
    "alignment = AlignIO.read('aligned ireds.clustal', 'clustal')\n",
    "align_array = np.array([list(rec) for rec in alignment], np.dtype(np.str_))\n",
    "print('Array shape %i by %i' % align_array.shape)"
   ]
  },
  {
   "cell_type": "code",
   "execution_count": 4,
   "id": "extraordinary-result",
   "metadata": {},
   "outputs": [],
   "source": [
    "# Extracting IRED number from alignments, ready to assign to index in dataframe\n",
    "align_index = AlignIO.read('aligned ireds.clustal', 'clustal')\n",
    "ired_names = []\n",
    "for record in align_index:\n",
    "    ired_names.append(record.id)"
   ]
  },
  {
   "cell_type": "code",
   "execution_count": 5,
   "id": "separate-course",
   "metadata": {},
   "outputs": [],
   "source": [
    "# Creating a dictionary of the z5 metrics plus another dimension (binary) which distinguishes between AA and gaps\n",
    "z5_dict = {\n",
    "    'A': [0.24, -2.32, 0.60, -0.14, 1.30, 0.0],\n",
    "    'R': [3.52, 2.50, -3.50, 1.99, -0.17, 0.0],\n",
    "    'N': [3.05, 1.62, 1.04, -1.15, 1.61, 0.0],\n",
    "    'D': [3.98, 0.93, 1.93, -2.46, 0.75, 0.0],\n",
    "    'C': [0.84, -1.67, 3.71, 0.18, -2.65, 0.0],\n",
    "    'Q': [1.75, 0.50, -1.44, -1.34, 0.66, 0.0],\n",
    "    'E': [3.11, 0.26, -0.11, -3.04, -0.25, 0.0],\n",
    "    'G': [2.05, -4.06, 0.36, -0.82, -0.38, 0.0],\n",
    "    'H': [2.47, 1.95, 0.26, 3.90, 0.09, 0.0],\n",
    "    'I': [-3.89, -1.73, -1.71, -0.84, 0.26, 0.0],\n",
    "    'L': [-4.28, -1.30, -1.49, -0.72, 0.84, 0.0],\n",
    "    'K': [2.29, 0.89, -2.49, 1.49, 0.31, 0.0],\n",
    "    'M': [-2.85, -0.22, 0.47, 1.94, -0.98, 0.0],\n",
    "    'F': [-4.22, 1.94, 1.06, 0.54, -0.62, 0.0],\n",
    "    'P': [-1.66, 0.27, 1.84, 0.70, 2.00, 0.0],\n",
    "    'S': [2.39, -1.07, 1.15, -1.39, 0.67, 0.0],\n",
    "    'T': [0.75, -2.18, -1.12, -1.46, -0.40, 0.0],\n",
    "    'W': [-4.36, 3.94, 0.59, 3.44, -1.59, 0.0],\n",
    "    'Y': [-2.54, 2.44, 0.43, 0.04, -1.47, 0.0],\n",
    "    'V': [-2.59, -2.64, -1.54, -0.85, -0.02, 0.0],\n",
    "    '-': [0.0, 0.0, 0.0, 0.0, 0.0, 1],\n",
    "    '*': [0.0, 0.0, 0.0, 0.0, 0.0, 1]\n",
    "}"
   ]
  },
  {
   "cell_type": "code",
   "execution_count": 6,
   "id": "naval-triumph",
   "metadata": {},
   "outputs": [],
   "source": [
    "# Creating a dictionary of all (active and non-active) IRED enzymes and their featurised sequences\n",
    "feat_seqs = {}\n",
    "for i, sequence in enumerate(align_array):\n",
    "    single_feat = []\n",
    "    for aa in sequence:\n",
    "        indices = z5_dict.get(aa)\n",
    "        single_feat.extend(indices)\n",
    "    feat_seqs[ired_names[i]] = single_feat"
   ]
  },
  {
   "cell_type": "code",
   "execution_count": 7,
   "id": "revised-graphic",
   "metadata": {},
   "outputs": [
    {
     "data": {
      "text/plain": [
       "(206, 6)"
      ]
     },
     "execution_count": 7,
     "metadata": {},
     "output_type": "execute_result"
    }
   ],
   "source": [
    "# Reading in the excel file of the data and dropping inactive entries \n",
    "df_ee = pd.read_excel('Prelim data.xlsx', engine='openpyxl')\n",
    "df_ee.dropna(subset=['Enantiomer'], inplace=True)\n",
    "df_ee.head(2)\n",
    "df_ee.shape"
   ]
  },
  {
   "cell_type": "code",
   "execution_count": 8,
   "id": "russian-chapel",
   "metadata": {},
   "outputs": [],
   "source": [
    "# Creating a dictionary for the enantiomer data extracted from the excel file above\n",
    "labels = {}\n",
    "for index, row in df_ee.iterrows():\n",
    "    labels[str(row['IRED No. '])] = row['enantiomer binary']"
   ]
  },
  {
   "cell_type": "code",
   "execution_count": 9,
   "id": "precious-asset",
   "metadata": {},
   "outputs": [],
   "source": [
    "enantiomer_list = []\n",
    "descrip_list = []\n",
    "for ired_name in labels:\n",
    "    enantiomer_list.append(labels.get(ired_name))\n",
    "    descrip_list.append(feat_seqs.get(ired_name))"
   ]
  },
  {
   "cell_type": "code",
   "execution_count": 10,
   "id": "concrete-millennium",
   "metadata": {},
   "outputs": [],
   "source": [
    "X = descrip_list\n",
    "y = enantiomer_list "
   ]
  },
  {
   "cell_type": "code",
   "execution_count": 11,
   "id": "lined-juvenile",
   "metadata": {},
   "outputs": [],
   "source": [
    "X_train, X_test, y_train, y_test = train_test_split(X, y, stratify=y, test_size=0.25, random_state=SEED)"
   ]
  },
  {
   "cell_type": "code",
   "execution_count": 209,
   "id": "authorized-greek",
   "metadata": {},
   "outputs": [
    {
     "name": "stdout",
     "output_type": "stream",
     "text": [
      "[17:20:40] WARNING: /Users/runner/miniforge3/conda-bld/xgboost_1607604592557/work/src/learner.cc:1061: Starting in XGBoost 1.3.0, the default evaluation metric used with the objective 'binary:logistic' was changed from 'error' to 'logloss'. Explicitly set eval_metric if you'd like to restore the old behavior.\n"
     ]
    },
    {
     "data": {
      "image/png": "[encoded data removed]",
      "text/plain": [
       "<Figure size 576x468 with 1 Axes>"
      ]
     },
     "metadata": {
      "image/png": {
       "height": 402,
       "width": 647
      }
     },
     "output_type": "display_data"
    }
   ],
   "source": [
    "# Getting data into correct format for fitting XGBoost model\n",
    "X_trainNPArray = np.array(X_train); X_testNPArray = np.array(X_test)\n",
    "y_trainNPArray = np.array(y_train); y_testNPArray = np.array(y_test)\n",
    "\n",
    "X_train_xgb = np.vstack(X_trainNPArray); X_test_xgb = np.vstack(X_testNPArray)\n",
    "y_train_xgb = np.vstack(y_trainNPArray); y_test_xgb = np.vstack(y_testNPArray)\n",
    "\n",
    "# Instantiating and fitting the XGBoost model\n",
    "xgb_model = xgb.XGBClassifier(objective='binary:logistic', n_estimators=10, seed=SEED, use_label_encoder=False)\n",
    "xgb_model.fit(X_train_xgb, y_train_xgb)\n",
    "\n",
    "XNPArray = np.array(X); X_xgb = np.vstack(XNPArray)\n",
    "# Explaining the model's predictions using SHAPs explainer function\n",
    "explainer = shap.Explainer(xgb_model)\n",
    "shap_values = explainer(X_xgb)\n",
    "\n",
    "# Visualising the predictor's explanation with a bar plot of ascending importance (fingers crossed...)\n",
    "ax = shap.plots.bar(shap_values)"
   ]
  },
  {
   "cell_type": "markdown",
   "id": "tested-impression",
   "metadata": {},
   "source": [
    "The plots above indicate that features 2113, 2506, 2640, 3938, 2379, 3914, 3627, 3220 and 4002 are to be followed up on, by extracting the AA they correspond to and finding the frequency of this residue in the 206 active IRED sequences."
   ]
  },
  {
   "cell_type": "code",
   "execution_count": 13,
   "id": "express-story",
   "metadata": {},
   "outputs": [],
   "source": [
    "# Creating a list (of lists) from the numpy array that was used to fit the model so the important\n",
    "# AA can be found easily\n",
    "X_features = X_train_xgb.tolist()"
   ]
  },
  {
   "cell_type": "code",
   "execution_count": 14,
   "id": "piano-walker",
   "metadata": {},
   "outputs": [],
   "source": [
    "# Creating a dictionary to enable the identification and frequency of important AA residues according to CHAP\n",
    "keyset = list(labels.keys())\n",
    "aa_dict = {}\n",
    "for key in keyset:\n",
    "    for i, sequence in enumerate(align_array):\n",
    "        if key == str(i):\n",
    "            aa_dict[key] = sequence"
   ]
  },
  {
   "cell_type": "code",
   "execution_count": 77,
   "id": "amateur-uncertainty",
   "metadata": {},
   "outputs": [
    {
     "data": {
      "text/html": [
       "<div>\n",
       "<style scoped>\n",
       "    .dataframe tbody tr th:only-of-type {\n",
       "        vertical-align: middle;\n",
       "    }\n",
       "\n",
       "    .dataframe tbody tr th {\n",
       "        vertical-align: top;\n",
       "    }\n",
       "\n",
       "    .dataframe thead th {\n",
       "        text-align: right;\n",
       "    }\n",
       "</style>\n",
       "<table border=\"1\" class=\"dataframe\">\n",
       "  <thead>\n",
       "    <tr style=\"text-align: right;\">\n",
       "      <th></th>\n",
       "      <th>0</th>\n",
       "      <th>1</th>\n",
       "      <th>2</th>\n",
       "      <th>3</th>\n",
       "      <th>4</th>\n",
       "      <th>5</th>\n",
       "      <th>6</th>\n",
       "      <th>7</th>\n",
       "      <th>8</th>\n",
       "      <th>9</th>\n",
       "      <th>...</th>\n",
       "      <th>990</th>\n",
       "      <th>991</th>\n",
       "      <th>992</th>\n",
       "      <th>993</th>\n",
       "      <th>994</th>\n",
       "      <th>995</th>\n",
       "      <th>996</th>\n",
       "      <th>997</th>\n",
       "      <th>998</th>\n",
       "      <th>999</th>\n",
       "    </tr>\n",
       "  </thead>\n",
       "  <tbody>\n",
       "    <tr>\n",
       "      <th>1</th>\n",
       "      <td>-</td>\n",
       "      <td>-</td>\n",
       "      <td>-</td>\n",
       "      <td>-</td>\n",
       "      <td>-</td>\n",
       "      <td>-</td>\n",
       "      <td>-</td>\n",
       "      <td>-</td>\n",
       "      <td>-</td>\n",
       "      <td>-</td>\n",
       "      <td>...</td>\n",
       "      <td>-</td>\n",
       "      <td>-</td>\n",
       "      <td>-</td>\n",
       "      <td>-</td>\n",
       "      <td>-</td>\n",
       "      <td>-</td>\n",
       "      <td>-</td>\n",
       "      <td>-</td>\n",
       "      <td>-</td>\n",
       "      <td>-</td>\n",
       "    </tr>\n",
       "    <tr>\n",
       "      <th>2</th>\n",
       "      <td>-</td>\n",
       "      <td>-</td>\n",
       "      <td>-</td>\n",
       "      <td>-</td>\n",
       "      <td>-</td>\n",
       "      <td>-</td>\n",
       "      <td>-</td>\n",
       "      <td>-</td>\n",
       "      <td>-</td>\n",
       "      <td>-</td>\n",
       "      <td>...</td>\n",
       "      <td>-</td>\n",
       "      <td>-</td>\n",
       "      <td>-</td>\n",
       "      <td>-</td>\n",
       "      <td>-</td>\n",
       "      <td>-</td>\n",
       "      <td>-</td>\n",
       "      <td>-</td>\n",
       "      <td>-</td>\n",
       "      <td>-</td>\n",
       "    </tr>\n",
       "  </tbody>\n",
       "</table>\n",
       "<p>2 rows × 1000 columns</p>\n",
       "</div>"
      ],
      "text/plain": [
       "  0   1   2   3   4   5   6   7   8   9    ... 990 991 992 993 994 995 996  \\\n",
       "1   -   -   -   -   -   -   -   -   -   -  ...   -   -   -   -   -   -   -   \n",
       "2   -   -   -   -   -   -   -   -   -   -  ...   -   -   -   -   -   -   -   \n",
       "\n",
       "  997 998 999  \n",
       "1   -   -   -  \n",
       "2   -   -   -  \n",
       "\n",
       "[2 rows x 1000 columns]"
      ]
     },
     "execution_count": 77,
     "metadata": {},
     "output_type": "execute_result"
    }
   ],
   "source": [
    "residue_df = pd.DataFrame.from_dict(aa_dict, orient='index')\n",
    "residue_df.head(2)"
   ]
  },
  {
   "cell_type": "code",
   "execution_count": 15,
   "id": "pursuant-airplane",
   "metadata": {},
   "outputs": [],
   "source": [
    "from collections import Counter"
   ]
  },
  {
   "cell_type": "code",
   "execution_count": 78,
   "id": "retained-mixer",
   "metadata": {},
   "outputs": [
    {
     "data": {
      "text/plain": [
       "Counter({'E': 39,\n",
       "         'P': 5,\n",
       "         'A': 76,\n",
       "         'D': 20,\n",
       "         'S': 14,\n",
       "         'K': 8,\n",
       "         '-': 8,\n",
       "         'Q': 6,\n",
       "         'H': 2,\n",
       "         'N': 6,\n",
       "         'R': 4,\n",
       "         'G': 9,\n",
       "         'V': 5,\n",
       "         'T': 3})"
      ]
     },
     "execution_count": 78,
     "metadata": {},
     "output_type": "execute_result"
    }
   ],
   "source": [
    "position_352 = []\n",
    "for key in aa_dict.keys():\n",
    "    all_seqs = aa_dict[key]\n",
    "    position_352.append(all_seqs[351])\n",
    "\n",
    "residue_df['position 352'] = position_352\n",
    "Counter(position_352)"
   ]
  },
  {
   "cell_type": "code",
   "execution_count": 81,
   "id": "southeast-spain",
   "metadata": {},
   "outputs": [
    {
     "data": {
      "text/plain": [
       "Counter({'-': 85,\n",
       "         'E': 16,\n",
       "         'D': 10,\n",
       "         'T': 2,\n",
       "         'L': 3,\n",
       "         'P': 2,\n",
       "         'S': 7,\n",
       "         'G': 59,\n",
       "         'K': 3,\n",
       "         'V': 1,\n",
       "         'I': 1,\n",
       "         'C': 2,\n",
       "         'N': 1,\n",
       "         'A': 10,\n",
       "         'Q': 3})"
      ]
     },
     "execution_count": 81,
     "metadata": {},
     "output_type": "execute_result"
    }
   ],
   "source": [
    "position_417 = []\n",
    "for key in aa_dict.keys():\n",
    "    all_seqs = aa_dict[key]\n",
    "    position_417.append(all_seqs[416])\n",
    "\n",
    "residue_df['position 417'] = position_417\n",
    "Counter(position_417)"
   ]
  },
  {
   "cell_type": "code",
   "execution_count": 82,
   "id": "designing-glory",
   "metadata": {},
   "outputs": [
    {
     "data": {
      "text/plain": [
       "Counter({'N': 31, 'T': 86, 'S': 71, 'A': 15, 'G': 1, 'D': 1})"
      ]
     },
     "execution_count": 82,
     "metadata": {},
     "output_type": "execute_result"
    }
   ],
   "source": [
    "position_440 = []\n",
    "for key in aa_dict.keys():\n",
    "    all_seqs = aa_dict[key]\n",
    "    position_440.append(all_seqs[439])\n",
    "\n",
    "residue_df['position 440'] = position_440 \n",
    "Counter(position_440)"
   ]
  },
  {
   "cell_type": "code",
   "execution_count": 19,
   "id": "systematic-glucose",
   "metadata": {
    "scrolled": true
   },
   "outputs": [
    {
     "data": {
      "text/plain": [
       "Counter({'R': 8,\n",
       "         'N': 1,\n",
       "         'S': 7,\n",
       "         'E': 2,\n",
       "         'Q': 1,\n",
       "         'D': 3,\n",
       "         'T': 3,\n",
       "         'A': 56,\n",
       "         'L': 53,\n",
       "         'M': 4,\n",
       "         'V': 20,\n",
       "         'F': 10,\n",
       "         'I': 23,\n",
       "         'W': 3,\n",
       "         'P': 4,\n",
       "         'G': 1,\n",
       "         'Y': 5,\n",
       "         'K': 1})"
      ]
     },
     "execution_count": 19,
     "metadata": {},
     "output_type": "execute_result"
    }
   ],
   "source": [
    "position_656 = []\n",
    "for key in aa_dict.keys():\n",
    "    all_seqs = aa_dict[key]\n",
    "    position_656.append(all_seqs[654])\n",
    "    \n",
    "Counter(position_656)"
   ]
  },
  {
   "cell_type": "code",
   "execution_count": 83,
   "id": "understanding-circulation",
   "metadata": {},
   "outputs": [
    {
     "data": {
      "text/plain": [
       "Counter({'V': 106, 'L': 88, 'F': 1, 'I': 6, 'M': 1, 'Q': 3})"
      ]
     },
     "execution_count": 83,
     "metadata": {},
     "output_type": "execute_result"
    }
   ],
   "source": [
    "position_396 = []\n",
    "for key in aa_dict.keys():\n",
    "    all_seqs = aa_dict[key]\n",
    "    position_396.append(all_seqs[395])\n",
    "\n",
    "residue_df['position 396'] = position_396  \n",
    "Counter(position_396)"
   ]
  },
  {
   "cell_type": "code",
   "execution_count": 84,
   "id": "electric-chess",
   "metadata": {},
   "outputs": [
    {
     "data": {
      "text/plain": [
       "Counter({'-': 198, 'A': 4, 'K': 1, 'T': 2})"
      ]
     },
     "execution_count": 84,
     "metadata": {},
     "output_type": "execute_result"
    }
   ],
   "source": [
    "position_652 = []\n",
    "for key in aa_dict.keys():\n",
    "    all_seqs = aa_dict[key]\n",
    "    position_652.append(all_seqs[651])\n",
    "    \n",
    "residue_df['position 652'] = position_652\n",
    "Counter(position_652)"
   ]
  },
  {
   "cell_type": "code",
   "execution_count": 85,
   "id": "forced-moses",
   "metadata": {
    "scrolled": true
   },
   "outputs": [
    {
     "data": {
      "text/plain": [
       "Counter({'S': 3,\n",
       "         'Y': 60,\n",
       "         'F': 17,\n",
       "         'I': 2,\n",
       "         'A': 53,\n",
       "         'V': 2,\n",
       "         'N': 2,\n",
       "         'W': 44,\n",
       "         'L': 8,\n",
       "         'M': 1,\n",
       "         'H': 4,\n",
       "         'D': 1,\n",
       "         'T': 3,\n",
       "         'G': 5})"
      ]
     },
     "execution_count": 85,
     "metadata": {},
     "output_type": "execute_result"
    }
   ],
   "source": [
    "position_604 = []\n",
    "for key in aa_dict.keys():\n",
    "    all_seqs = aa_dict[key]\n",
    "    position_604.append(all_seqs[603])\n",
    "    \n",
    "residue_df['position 604'] = position_604\n",
    "Counter(position_604)"
   ]
  },
  {
   "cell_type": "code",
   "execution_count": 86,
   "id": "sensitive-float",
   "metadata": {
    "scrolled": true
   },
   "outputs": [
    {
     "data": {
      "text/plain": [
       "Counter({'K': 11,\n",
       "         'E': 58,\n",
       "         'R': 7,\n",
       "         'N': 4,\n",
       "         'T': 8,\n",
       "         'S': 5,\n",
       "         'A': 26,\n",
       "         'D': 58,\n",
       "         'V': 1,\n",
       "         'Q': 14,\n",
       "         'H': 6,\n",
       "         '-': 2,\n",
       "         'L': 4,\n",
       "         'G': 1})"
      ]
     },
     "execution_count": 86,
     "metadata": {},
     "output_type": "execute_result"
    }
   ],
   "source": [
    "position_536 = []\n",
    "for key in aa_dict.keys():\n",
    "    all_seqs = aa_dict[key]\n",
    "    position_536.append(all_seqs[535])\n",
    "\n",
    "residue_df['position 536'] = position_536\n",
    "Counter(position_536)"
   ]
  },
  {
   "cell_type": "code",
   "execution_count": 87,
   "id": "ranking-large",
   "metadata": {
    "scrolled": true
   },
   "outputs": [
    {
     "data": {
      "text/plain": [
       "Counter({'M': 40,\n",
       "         'D': 1,\n",
       "         'F': 14,\n",
       "         'L': 29,\n",
       "         '-': 38,\n",
       "         'V': 20,\n",
       "         'Y': 6,\n",
       "         'T': 1,\n",
       "         'I': 5,\n",
       "         'S': 2,\n",
       "         'G': 5,\n",
       "         'A': 44})"
      ]
     },
     "execution_count": 87,
     "metadata": {},
     "output_type": "execute_result"
    }
   ],
   "source": [
    "position_667 = []\n",
    "for key in aa_dict.keys():\n",
    "    all_seqs = aa_dict[key]\n",
    "    position_667.append(all_seqs[666])\n",
    "    \n",
    "residue_df['position 667'] = position_667\n",
    "Counter(position_667)"
   ]
  },
  {
   "cell_type": "code",
   "execution_count": 93,
   "id": "gorgeous-composite",
   "metadata": {},
   "outputs": [
    {
     "data": {
      "text/html": [
       "<div>\n",
       "<style scoped>\n",
       "    .dataframe tbody tr th:only-of-type {\n",
       "        vertical-align: middle;\n",
       "    }\n",
       "\n",
       "    .dataframe tbody tr th {\n",
       "        vertical-align: top;\n",
       "    }\n",
       "\n",
       "    .dataframe thead th {\n",
       "        text-align: right;\n",
       "    }\n",
       "</style>\n",
       "<table border=\"1\" class=\"dataframe\">\n",
       "  <thead>\n",
       "    <tr style=\"text-align: right;\">\n",
       "      <th></th>\n",
       "      <th>0</th>\n",
       "      <th>1</th>\n",
       "      <th>2</th>\n",
       "      <th>3</th>\n",
       "      <th>4</th>\n",
       "      <th>5</th>\n",
       "      <th>6</th>\n",
       "      <th>7</th>\n",
       "      <th>8</th>\n",
       "      <th>9</th>\n",
       "      <th>...</th>\n",
       "      <th>998</th>\n",
       "      <th>999</th>\n",
       "      <th>position 352</th>\n",
       "      <th>position 417</th>\n",
       "      <th>position 440</th>\n",
       "      <th>position 396</th>\n",
       "      <th>position 652</th>\n",
       "      <th>position 604</th>\n",
       "      <th>position 536</th>\n",
       "      <th>position 667</th>\n",
       "    </tr>\n",
       "  </thead>\n",
       "  <tbody>\n",
       "    <tr>\n",
       "      <th>1</th>\n",
       "      <td>-</td>\n",
       "      <td>-</td>\n",
       "      <td>-</td>\n",
       "      <td>-</td>\n",
       "      <td>-</td>\n",
       "      <td>-</td>\n",
       "      <td>-</td>\n",
       "      <td>-</td>\n",
       "      <td>-</td>\n",
       "      <td>-</td>\n",
       "      <td>...</td>\n",
       "      <td>-</td>\n",
       "      <td>-</td>\n",
       "      <td>E</td>\n",
       "      <td>-</td>\n",
       "      <td>N</td>\n",
       "      <td>V</td>\n",
       "      <td>-</td>\n",
       "      <td>S</td>\n",
       "      <td>K</td>\n",
       "      <td>M</td>\n",
       "    </tr>\n",
       "    <tr>\n",
       "      <th>2</th>\n",
       "      <td>-</td>\n",
       "      <td>-</td>\n",
       "      <td>-</td>\n",
       "      <td>-</td>\n",
       "      <td>-</td>\n",
       "      <td>-</td>\n",
       "      <td>-</td>\n",
       "      <td>-</td>\n",
       "      <td>-</td>\n",
       "      <td>-</td>\n",
       "      <td>...</td>\n",
       "      <td>-</td>\n",
       "      <td>-</td>\n",
       "      <td>P</td>\n",
       "      <td>E</td>\n",
       "      <td>T</td>\n",
       "      <td>L</td>\n",
       "      <td>-</td>\n",
       "      <td>Y</td>\n",
       "      <td>E</td>\n",
       "      <td>D</td>\n",
       "    </tr>\n",
       "  </tbody>\n",
       "</table>\n",
       "<p>2 rows × 1008 columns</p>\n",
       "</div>"
      ],
      "text/plain": [
       "   0  1  2  3  4  5  6  7  8  9  ... 998 999 position 352 position 417  \\\n",
       "1  -  -  -  -  -  -  -  -  -  -  ...   -   -            E            -   \n",
       "2  -  -  -  -  -  -  -  -  -  -  ...   -   -            P            E   \n",
       "\n",
       "  position 440 position 396 position 652 position 604 position 536  \\\n",
       "1            N            V            -            S            K   \n",
       "2            T            L            -            Y            E   \n",
       "\n",
       "  position 667  \n",
       "1            M  \n",
       "2            D  \n",
       "\n",
       "[2 rows x 1008 columns]"
      ]
     },
     "execution_count": 93,
     "metadata": {},
     "output_type": "execute_result"
    }
   ],
   "source": [
    "residue_df.head(2)"
   ]
  },
  {
   "cell_type": "code",
   "execution_count": 96,
   "id": "enabling-israeli",
   "metadata": {},
   "outputs": [],
   "source": [
    "residue_df = residue_df[['position 352', 'position 417', 'position 440', 'position 396', 'position 652', 'position 604',\n",
    "                'position 536', 'position 667']]"
   ]
  },
  {
   "cell_type": "code",
   "execution_count": 97,
   "id": "revised-pride",
   "metadata": {},
   "outputs": [
    {
     "data": {
      "text/html": [
       "<div>\n",
       "<style scoped>\n",
       "    .dataframe tbody tr th:only-of-type {\n",
       "        vertical-align: middle;\n",
       "    }\n",
       "\n",
       "    .dataframe tbody tr th {\n",
       "        vertical-align: top;\n",
       "    }\n",
       "\n",
       "    .dataframe thead th {\n",
       "        text-align: right;\n",
       "    }\n",
       "</style>\n",
       "<table border=\"1\" class=\"dataframe\">\n",
       "  <thead>\n",
       "    <tr style=\"text-align: right;\">\n",
       "      <th></th>\n",
       "      <th>position 352</th>\n",
       "      <th>position 417</th>\n",
       "      <th>position 440</th>\n",
       "      <th>position 396</th>\n",
       "      <th>position 652</th>\n",
       "      <th>position 604</th>\n",
       "      <th>position 536</th>\n",
       "      <th>position 667</th>\n",
       "    </tr>\n",
       "  </thead>\n",
       "  <tbody>\n",
       "    <tr>\n",
       "      <th>1</th>\n",
       "      <td>E</td>\n",
       "      <td>-</td>\n",
       "      <td>N</td>\n",
       "      <td>V</td>\n",
       "      <td>-</td>\n",
       "      <td>S</td>\n",
       "      <td>K</td>\n",
       "      <td>M</td>\n",
       "    </tr>\n",
       "    <tr>\n",
       "      <th>2</th>\n",
       "      <td>P</td>\n",
       "      <td>E</td>\n",
       "      <td>T</td>\n",
       "      <td>L</td>\n",
       "      <td>-</td>\n",
       "      <td>Y</td>\n",
       "      <td>E</td>\n",
       "      <td>D</td>\n",
       "    </tr>\n",
       "    <tr>\n",
       "      <th>3</th>\n",
       "      <td>A</td>\n",
       "      <td>D</td>\n",
       "      <td>S</td>\n",
       "      <td>F</td>\n",
       "      <td>-</td>\n",
       "      <td>Y</td>\n",
       "      <td>R</td>\n",
       "      <td>F</td>\n",
       "    </tr>\n",
       "    <tr>\n",
       "      <th>4</th>\n",
       "      <td>E</td>\n",
       "      <td>T</td>\n",
       "      <td>S</td>\n",
       "      <td>V</td>\n",
       "      <td>-</td>\n",
       "      <td>Y</td>\n",
       "      <td>E</td>\n",
       "      <td>F</td>\n",
       "    </tr>\n",
       "    <tr>\n",
       "      <th>6</th>\n",
       "      <td>E</td>\n",
       "      <td>L</td>\n",
       "      <td>T</td>\n",
       "      <td>V</td>\n",
       "      <td>-</td>\n",
       "      <td>Y</td>\n",
       "      <td>N</td>\n",
       "      <td>F</td>\n",
       "    </tr>\n",
       "    <tr>\n",
       "      <th>...</th>\n",
       "      <td>...</td>\n",
       "      <td>...</td>\n",
       "      <td>...</td>\n",
       "      <td>...</td>\n",
       "      <td>...</td>\n",
       "      <td>...</td>\n",
       "      <td>...</td>\n",
       "      <td>...</td>\n",
       "    </tr>\n",
       "    <tr>\n",
       "      <th>371</th>\n",
       "      <td>E</td>\n",
       "      <td>-</td>\n",
       "      <td>T</td>\n",
       "      <td>V</td>\n",
       "      <td>-</td>\n",
       "      <td>A</td>\n",
       "      <td>A</td>\n",
       "      <td>A</td>\n",
       "    </tr>\n",
       "    <tr>\n",
       "      <th>373</th>\n",
       "      <td>K</td>\n",
       "      <td>-</td>\n",
       "      <td>T</td>\n",
       "      <td>V</td>\n",
       "      <td>-</td>\n",
       "      <td>A</td>\n",
       "      <td>A</td>\n",
       "      <td>A</td>\n",
       "    </tr>\n",
       "    <tr>\n",
       "      <th>374</th>\n",
       "      <td>T</td>\n",
       "      <td>G</td>\n",
       "      <td>T</td>\n",
       "      <td>V</td>\n",
       "      <td>-</td>\n",
       "      <td>A</td>\n",
       "      <td>A</td>\n",
       "      <td>A</td>\n",
       "    </tr>\n",
       "    <tr>\n",
       "      <th>377</th>\n",
       "      <td>E</td>\n",
       "      <td>G</td>\n",
       "      <td>T</td>\n",
       "      <td>V</td>\n",
       "      <td>-</td>\n",
       "      <td>A</td>\n",
       "      <td>D</td>\n",
       "      <td>A</td>\n",
       "    </tr>\n",
       "    <tr>\n",
       "      <th>382</th>\n",
       "      <td>D</td>\n",
       "      <td>G</td>\n",
       "      <td>T</td>\n",
       "      <td>V</td>\n",
       "      <td>-</td>\n",
       "      <td>A</td>\n",
       "      <td>T</td>\n",
       "      <td>A</td>\n",
       "    </tr>\n",
       "  </tbody>\n",
       "</table>\n",
       "<p>205 rows × 8 columns</p>\n",
       "</div>"
      ],
      "text/plain": [
       "    position 352 position 417 position 440 position 396 position 652  \\\n",
       "1              E            -            N            V            -   \n",
       "2              P            E            T            L            -   \n",
       "3              A            D            S            F            -   \n",
       "4              E            T            S            V            -   \n",
       "6              E            L            T            V            -   \n",
       "..           ...          ...          ...          ...          ...   \n",
       "371            E            -            T            V            -   \n",
       "373            K            -            T            V            -   \n",
       "374            T            G            T            V            -   \n",
       "377            E            G            T            V            -   \n",
       "382            D            G            T            V            -   \n",
       "\n",
       "    position 604 position 536 position 667  \n",
       "1              S            K            M  \n",
       "2              Y            E            D  \n",
       "3              Y            R            F  \n",
       "4              Y            E            F  \n",
       "6              Y            N            F  \n",
       "..           ...          ...          ...  \n",
       "371            A            A            A  \n",
       "373            A            A            A  \n",
       "374            A            A            A  \n",
       "377            A            D            A  \n",
       "382            A            T            A  \n",
       "\n",
       "[205 rows x 8 columns]"
      ]
     },
     "execution_count": 97,
     "metadata": {},
     "output_type": "execute_result"
    }
   ],
   "source": [
    "residue_df"
   ]
  },
  {
   "cell_type": "code",
   "execution_count": 138,
   "id": "magnetic-flesh",
   "metadata": {},
   "outputs": [
    {
     "data": {
      "text/plain": [
       "(205, 5)"
      ]
     },
     "execution_count": 138,
     "metadata": {},
     "output_type": "execute_result"
    }
   ],
   "source": [
    "df = pd.read_excel('Prelim data.xlsx', engine='openpyxl')\n",
    "df.dropna(subset=['enantiomer binary'], inplace=True)\n",
    "df.set_index('IRED No. ', inplace=True)\n",
    "df.drop(384, inplace=True)\n",
    "df.shape"
   ]
  },
  {
   "cell_type": "code",
   "execution_count": 139,
   "id": "strong-practitioner",
   "metadata": {},
   "outputs": [
    {
     "data": {
      "text/html": [
       "<div>\n",
       "<style scoped>\n",
       "    .dataframe tbody tr th:only-of-type {\n",
       "        vertical-align: middle;\n",
       "    }\n",
       "\n",
       "    .dataframe tbody tr th {\n",
       "        vertical-align: top;\n",
       "    }\n",
       "\n",
       "    .dataframe thead th {\n",
       "        text-align: right;\n",
       "    }\n",
       "</style>\n",
       "<table border=\"1\" class=\"dataframe\">\n",
       "  <thead>\n",
       "    <tr style=\"text-align: right;\">\n",
       "      <th></th>\n",
       "      <th>Reaction 2</th>\n",
       "      <th>ee</th>\n",
       "      <th>Enantiomer</th>\n",
       "      <th>enantiomer binary</th>\n",
       "      <th>Sequence</th>\n",
       "    </tr>\n",
       "    <tr>\n",
       "      <th>IRED No.</th>\n",
       "      <th></th>\n",
       "      <th></th>\n",
       "      <th></th>\n",
       "      <th></th>\n",
       "      <th></th>\n",
       "    </tr>\n",
       "  </thead>\n",
       "  <tbody>\n",
       "    <tr>\n",
       "      <th>371</th>\n",
       "      <td>64% (85% ee, R)</td>\n",
       "      <td>85.0</td>\n",
       "      <td>R</td>\n",
       "      <td>0.0</td>\n",
       "      <td>MTGHHRTPVTVVGLGSMGSALAEAFVDAGHAVTVWNRTPSKAAPLV...</td>\n",
       "    </tr>\n",
       "    <tr>\n",
       "      <th>373</th>\n",
       "      <td>22% (83% ee, R)</td>\n",
       "      <td>83.0</td>\n",
       "      <td>R</td>\n",
       "      <td>0.0</td>\n",
       "      <td>MTSHAEHSAVTVLGLGPMGRALANAFLDAGLRTTVWNRTPGRDREL...</td>\n",
       "    </tr>\n",
       "    <tr>\n",
       "      <th>374</th>\n",
       "      <td>97%  (&gt;99% ee, S)</td>\n",
       "      <td>99.0</td>\n",
       "      <td>S</td>\n",
       "      <td>1.0</td>\n",
       "      <td>MSSVSIFGLGAMGTAMAARFLEKNFKVTVWNRTPEKANKLLDKGAS...</td>\n",
       "    </tr>\n",
       "    <tr>\n",
       "      <th>377</th>\n",
       "      <td>8% (&gt;99% ee, S)</td>\n",
       "      <td>99.0</td>\n",
       "      <td>S</td>\n",
       "      <td>1.0</td>\n",
       "      <td>MSEKIAFLGLGNLGYPIAESLINSGFDVTVWNRTASKADPLVKLGA...</td>\n",
       "    </tr>\n",
       "    <tr>\n",
       "      <th>382</th>\n",
       "      <td>2% (S)</td>\n",
       "      <td>2.0</td>\n",
       "      <td>S</td>\n",
       "      <td>1.0</td>\n",
       "      <td>MLKAGHPTTIWNRSPGKGEDLVARGATRAATPAEAVRAGEVVVVCV...</td>\n",
       "    </tr>\n",
       "  </tbody>\n",
       "</table>\n",
       "</div>"
      ],
      "text/plain": [
       "                  Reaction 2    ee Enantiomer  enantiomer binary  \\\n",
       "IRED No.                                                           \n",
       "371          64% (85% ee, R)  85.0          R                0.0   \n",
       "373          22% (83% ee, R)  83.0          R                0.0   \n",
       "374        97%  (>99% ee, S)  99.0          S                1.0   \n",
       "377          8% (>99% ee, S)  99.0          S                1.0   \n",
       "382                   2% (S)   2.0          S                1.0   \n",
       "\n",
       "                                                    Sequence  \n",
       "IRED No.                                                      \n",
       "371        MTGHHRTPVTVVGLGSMGSALAEAFVDAGHAVTVWNRTPSKAAPLV...  \n",
       "373        MTSHAEHSAVTVLGLGPMGRALANAFLDAGLRTTVWNRTPGRDREL...  \n",
       "374        MSSVSIFGLGAMGTAMAARFLEKNFKVTVWNRTPEKANKLLDKGAS...  \n",
       "377        MSEKIAFLGLGNLGYPIAESLINSGFDVTVWNRTASKADPLVKLGA...  \n",
       "382        MLKAGHPTTIWNRSPGKGEDLVARGATRAATPAEAVRAGEVVVVCV...  "
      ]
     },
     "execution_count": 139,
     "metadata": {},
     "output_type": "execute_result"
    }
   ],
   "source": [
    "df.tail()"
   ]
  },
  {
   "cell_type": "code",
   "execution_count": 179,
   "id": "expressed-college",
   "metadata": {},
   "outputs": [],
   "source": [
    "df['position 352'] = position_352\n",
    "df['position 396'] = position_396\n",
    "df['position 417'] = position_417\n",
    "df['position 440'] = position_440\n",
    "df['position 536'] = position_536\n",
    "df['position 604'] = position_604\n",
    "df['position 652'] = position_652\n",
    "df['position 656'] = position_656\n",
    "df['position 667'] = position_667"
   ]
  },
  {
   "cell_type": "code",
   "execution_count": 141,
   "id": "controlling-resistance",
   "metadata": {},
   "outputs": [],
   "source": [
    "df.drop(columns='Sequence', inplace=True)"
   ]
  },
  {
   "cell_type": "code",
   "execution_count": 180,
   "id": "knowing-detector",
   "metadata": {},
   "outputs": [
    {
     "data": {
      "text/html": [
       "<div>\n",
       "<style scoped>\n",
       "    .dataframe tbody tr th:only-of-type {\n",
       "        vertical-align: middle;\n",
       "    }\n",
       "\n",
       "    .dataframe tbody tr th {\n",
       "        vertical-align: top;\n",
       "    }\n",
       "\n",
       "    .dataframe thead th {\n",
       "        text-align: right;\n",
       "    }\n",
       "</style>\n",
       "<table border=\"1\" class=\"dataframe\">\n",
       "  <thead>\n",
       "    <tr style=\"text-align: right;\">\n",
       "      <th></th>\n",
       "      <th>Reaction 2</th>\n",
       "      <th>ee</th>\n",
       "      <th>Enantiomer</th>\n",
       "      <th>enantiomer binary</th>\n",
       "      <th>position 352</th>\n",
       "      <th>position 396</th>\n",
       "      <th>position 417</th>\n",
       "      <th>position 440</th>\n",
       "      <th>position 536</th>\n",
       "      <th>position 604</th>\n",
       "      <th>position 652</th>\n",
       "      <th>position 667</th>\n",
       "      <th>position 656</th>\n",
       "    </tr>\n",
       "    <tr>\n",
       "      <th>IRED No.</th>\n",
       "      <th></th>\n",
       "      <th></th>\n",
       "      <th></th>\n",
       "      <th></th>\n",
       "      <th></th>\n",
       "      <th></th>\n",
       "      <th></th>\n",
       "      <th></th>\n",
       "      <th></th>\n",
       "      <th></th>\n",
       "      <th></th>\n",
       "      <th></th>\n",
       "      <th></th>\n",
       "    </tr>\n",
       "  </thead>\n",
       "  <tbody>\n",
       "    <tr>\n",
       "      <th>1</th>\n",
       "      <td>62% (33% ee, S)</td>\n",
       "      <td>33.0</td>\n",
       "      <td>S</td>\n",
       "      <td>1.0</td>\n",
       "      <td>E</td>\n",
       "      <td>V</td>\n",
       "      <td>-</td>\n",
       "      <td>N</td>\n",
       "      <td>K</td>\n",
       "      <td>S</td>\n",
       "      <td>-</td>\n",
       "      <td>M</td>\n",
       "      <td>R</td>\n",
       "    </tr>\n",
       "    <tr>\n",
       "      <th>2</th>\n",
       "      <td>67% (46% ee, S)</td>\n",
       "      <td>46.0</td>\n",
       "      <td>S</td>\n",
       "      <td>1.0</td>\n",
       "      <td>P</td>\n",
       "      <td>L</td>\n",
       "      <td>E</td>\n",
       "      <td>T</td>\n",
       "      <td>E</td>\n",
       "      <td>Y</td>\n",
       "      <td>-</td>\n",
       "      <td>D</td>\n",
       "      <td>R</td>\n",
       "    </tr>\n",
       "  </tbody>\n",
       "</table>\n",
       "</div>"
      ],
      "text/plain": [
       "                Reaction 2    ee Enantiomer  enantiomer binary position 352  \\\n",
       "IRED No.                                                                      \n",
       "1          62% (33% ee, S)  33.0          S                1.0            E   \n",
       "2          67% (46% ee, S)  46.0          S                1.0            P   \n",
       "\n",
       "          position 396 position 417 position 440 position 536 position 604  \\\n",
       "IRED No.                                                                     \n",
       "1                    V            -            N            K            S   \n",
       "2                    L            E            T            E            Y   \n",
       "\n",
       "          position 652 position 667 position 656  \n",
       "IRED No.                                          \n",
       "1                    -            M            R  \n",
       "2                    -            D            R  "
      ]
     },
     "execution_count": 180,
     "metadata": {},
     "output_type": "execute_result"
    }
   ],
   "source": [
    "df.head(2)"
   ]
  },
  {
   "cell_type": "code",
   "execution_count": 199,
   "id": "adequate-sleeve",
   "metadata": {},
   "outputs": [
    {
     "data": {
      "image/png": "[encoded data removed]",
      "text/plain": [
       "<Figure size 432x288 with 1 Axes>"
      ]
     },
     "metadata": {
      "image/png": {
       "height": 261,
       "width": 382
      },
      "needs_background": "light"
     },
     "output_type": "display_data"
    }
   ],
   "source": [
    "sns_plot = sns.countplot(data=df, x='position 352', hue='Enantiomer', order=df['position 352'].value_counts().index)\n",
    "fig = sns_plot.get_figure()\n",
    "fig.savefig(\"position 352.png\") "
   ]
  },
  {
   "cell_type": "code",
   "execution_count": 200,
   "id": "interstate-referral",
   "metadata": {},
   "outputs": [
    {
     "data": {
      "image/png": "[encoded data removed]",
      "text/plain": [
       "<Figure size 432x288 with 1 Axes>"
      ]
     },
     "metadata": {
      "image/png": {
       "height": 261,
       "width": 382
      },
      "needs_background": "light"
     },
     "output_type": "display_data"
    }
   ],
   "source": [
    "ax = sns.countplot(data=df, x='position 396', hue='Enantiomer', order=df['position 396'].value_counts().index)\n",
    "fig = ax.get_figure()\n",
    "fig.savefig(\"position 396.png\") "
   ]
  },
  {
   "cell_type": "code",
   "execution_count": 201,
   "id": "suburban-remedy",
   "metadata": {},
   "outputs": [
    {
     "data": {
      "image/png": "[encoded data removed]",
      "text/plain": [
       "<Figure size 432x288 with 1 Axes>"
      ]
     },
     "metadata": {
      "image/png": {
       "height": 261,
       "width": 382
      },
      "needs_background": "light"
     },
     "output_type": "display_data"
    }
   ],
   "source": [
    "ax = sns.countplot(data=df, x='position 417', hue='Enantiomer', order=df['position 417'].value_counts().index)\n",
    "fig = ax.get_figure()\n",
    "fig.savefig(\"position 417.png\") "
   ]
  },
  {
   "cell_type": "code",
   "execution_count": 202,
   "id": "exact-clearance",
   "metadata": {},
   "outputs": [
    {
     "data": {
      "image/png": "[encoded data removed]",
      "text/plain": [
       "<Figure size 432x288 with 1 Axes>"
      ]
     },
     "metadata": {
      "image/png": {
       "height": 261,
       "width": 382
      },
      "needs_background": "light"
     },
     "output_type": "display_data"
    }
   ],
   "source": [
    "ax = sns.countplot(data=df, x='position 440', hue='Enantiomer', order=df['position 440'].value_counts().index)\n",
    "fig = ax.get_figure()\n",
    "fig.savefig(\"position 440.png\") "
   ]
  },
  {
   "cell_type": "code",
   "execution_count": 203,
   "id": "foreign-convention",
   "metadata": {},
   "outputs": [
    {
     "data": {
      "image/png": "[encoded data removed]",
      "text/plain": [
       "<Figure size 432x288 with 1 Axes>"
      ]
     },
     "metadata": {
      "image/png": {
       "height": 261,
       "width": 382
      },
      "needs_background": "light"
     },
     "output_type": "display_data"
    }
   ],
   "source": [
    "ax = sns.countplot(data=df, x='position 536', hue='Enantiomer', order=df['position 536'].value_counts().index)\n",
    "fig = ax.get_figure()\n",
    "fig.savefig(\"position 536.png\") "
   ]
  },
  {
   "cell_type": "code",
   "execution_count": 204,
   "id": "mexican-enhancement",
   "metadata": {},
   "outputs": [
    {
     "data": {
      "image/png": "[encoded data removed]",
      "text/plain": [
       "<Figure size 432x288 with 1 Axes>"
      ]
     },
     "metadata": {
      "image/png": {
       "height": 261,
       "width": 382
      },
      "needs_background": "light"
     },
     "output_type": "display_data"
    }
   ],
   "source": [
    "ax = sns.countplot(data=df, x='position 604', hue='Enantiomer', order=df['position 604'].value_counts().index)\n",
    "fig = ax.get_figure()\n",
    "fig.savefig(\"position 604.png\") "
   ]
  },
  {
   "cell_type": "code",
   "execution_count": 205,
   "id": "intensive-mechanics",
   "metadata": {},
   "outputs": [
    {
     "data": {
      "image/png": "[encoded data removed]",
      "text/plain": [
       "<Figure size 432x288 with 1 Axes>"
      ]
     },
     "metadata": {
      "image/png": {
       "height": 261,
       "width": 388
      },
      "needs_background": "light"
     },
     "output_type": "display_data"
    }
   ],
   "source": [
    "ax = sns.countplot(data=df, x='position 652', hue='Enantiomer', order=df['position 652'].value_counts().index)\n",
    "fig = ax.get_figure()\n",
    "fig.savefig(\"position 652.png\") "
   ]
  },
  {
   "cell_type": "code",
   "execution_count": 206,
   "id": "hydraulic-minute",
   "metadata": {},
   "outputs": [
    {
     "data": {
      "image/png": "[encoded data removed]",
      "text/plain": [
       "<Figure size 432x288 with 1 Axes>"
      ]
     },
     "metadata": {
      "image/png": {
       "height": 263,
       "width": 382
      },
      "needs_background": "light"
     },
     "output_type": "display_data"
    }
   ],
   "source": [
    "ax = sns.countplot(data=df, x='position 656', hue='Enantiomer', order=df['position 656'].value_counts().index)\n",
    "fig = ax.get_figure()\n",
    "fig.savefig(\"position 656.png\") "
   ]
  },
  {
   "cell_type": "code",
   "execution_count": 207,
   "id": "automotive-easter",
   "metadata": {},
   "outputs": [
    {
     "data": {
      "image/png": "[encoded data removed]",
      "text/plain": [
       "<Figure size 432x288 with 1 Axes>"
      ]
     },
     "metadata": {
      "image/png": {
       "height": 261,
       "width": 382
      },
      "needs_background": "light"
     },
     "output_type": "display_data"
    }
   ],
   "source": [
    "ax = sns.countplot(data=df, x='position 667', hue='Enantiomer', order=df['position 667'].value_counts().index)\n",
    "fig = ax.get_figure()\n",
    "fig.savefig(\"position 667.png\") "
   ]
  },
  {
   "cell_type": "code",
   "execution_count": null,
   "id": "adequate-filename",
   "metadata": {},
   "outputs": [],
   "source": []
  }
 ],
 "metadata": {
  "kernelspec": {
   "display_name": "Python 3",
   "language": "python",
   "name": "python3"
  },
  "language_info": {
   "codemirror_mode": {
    "name": "ipython",
    "version": 3
   },
   "file_extension": ".py",
   "mimetype": "text/x-python",
   "name": "python",
   "nbconvert_exporter": "python",
   "pygments_lexer": "ipython3",
   "version": "3.8.5"
  }
 },
 "nbformat": 4,
 "nbformat_minor": 5
}
