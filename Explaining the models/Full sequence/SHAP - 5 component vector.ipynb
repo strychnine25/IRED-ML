{
 "cells": [
  {
   "cell_type": "code",
   "execution_count": 1,
   "id": "australian-sarah",
   "metadata": {},
   "outputs": [],
   "source": [
    "import shap\n",
    "from Bio import AlignIO\n",
    "import pandas as pd\n",
    "import numpy as np\n",
    "\n",
    "import xgboost as xgb\n",
    "from sklearn.model_selection import train_test_split\n",
    "\n",
    "import seaborn as sns\n",
    "\n",
    "SEED=25"
   ]
  },
  {
   "cell_type": "code",
   "execution_count": 2,
   "id": "falling-plasma",
   "metadata": {},
   "outputs": [],
   "source": [
    "%config InlineBackend.figure_format = 'retina'"
   ]
  },
  {
   "cell_type": "code",
   "execution_count": 3,
   "id": "electoral-minnesota",
   "metadata": {},
   "outputs": [
    {
     "name": "stdout",
     "output_type": "stream",
     "text": [
      "Array shape 383 by 1000\n"
     ]
    }
   ],
   "source": [
    "# Extracting sequences as multiple alignments into a numpy array \n",
    "alignment = AlignIO.read('aligned ireds.clustal', 'clustal')\n",
    "align_array = np.array([list(rec) for rec in alignment], np.dtype(np.str_))\n",
    "print('Array shape %i by %i' % align_array.shape)"
   ]
  },
  {
   "cell_type": "code",
   "execution_count": 6,
   "id": "extraordinary-result",
   "metadata": {},
   "outputs": [],
   "source": [
    "# Extracting IRED number from alignments, ready to assign to index in dataframe\n",
    "align_index = AlignIO.read('aligned ireds.clustal', 'clustal')\n",
    "ired_names = []\n",
    "for record in align_index:\n",
    "    ired_names.append(record.id)"
   ]
  },
  {
   "cell_type": "code",
   "execution_count": 7,
   "id": "separate-course",
   "metadata": {},
   "outputs": [],
   "source": [
    "# Creating a dictionary of the z5 metrics plus another dimension (binary) which distinguishes between AA and gaps\n",
    "z5_dict = {\n",
    "    'A': [0.24, -2.32, 0.60, -0.14, 1.30],\n",
    "    'R': [3.52, 2.50, -3.50, 1.99, -0.17],\n",
    "    'N': [3.05, 1.62, 1.04, -1.15, 1.61],\n",
    "    'D': [3.98, 0.93, 1.93, -2.46, 0.75],\n",
    "    'C': [0.84, -1.67, 3.71, 0.18, -2.65],\n",
    "    'Q': [1.75, 0.50, -1.44, -1.34, 0.66],\n",
    "    'E': [3.11, 0.26, -0.11, -3.04, -0.25],\n",
    "    'G': [2.05, -4.06, 0.36, -0.82, -0.38],\n",
    "    'H': [2.47, 1.95, 0.26, 3.90, 0.09],\n",
    "    'I': [-3.89, -1.73, -1.71, -0.84, 0.26],\n",
    "    'L': [-4.28, -1.30, -1.49, -0.72, 0.84],\n",
    "    'K': [2.29, 0.89, -2.49, 1.49, 0.31],\n",
    "    'M': [-2.85, -0.22, 0.47, 1.94, -0.98],\n",
    "    'F': [-4.22, 1.94, 1.06, 0.54, -0.62],\n",
    "    'P': [-1.66, 0.27, 1.84, 0.70, 2.00],\n",
    "    'S': [2.39, -1.07, 1.15, -1.39, 0.67],\n",
    "    'T': [0.75, -2.18, -1.12, -1.46, -0.40],\n",
    "    'W': [-4.36, 3.94, 0.59, 3.44, -1.59],\n",
    "    'Y': [-2.54, 2.44, 0.43, 0.04, -1.47],\n",
    "    'V': [-2.59, -2.64, -1.54, -0.85, -0.02],\n",
    "    '-': [0.0, 0.0, 0.0, 0.0, 0.0],\n",
    "    '*': [0.0, 0.0, 0.0, 0.0, 0.0]\n",
    "}"
   ]
  },
  {
   "cell_type": "code",
   "execution_count": 8,
   "id": "naval-triumph",
   "metadata": {},
   "outputs": [],
   "source": [
    "# Creating a dictionary of all (active and non-active) IRED enzymes and their featurised sequences\n",
    "feat_seqs = {}\n",
    "for i, sequence in enumerate(align_array):\n",
    "    single_feat = []\n",
    "    for aa in sequence:\n",
    "        indices = z5_dict.get(aa)\n",
    "        single_feat.extend(indices)\n",
    "    feat_seqs[ired_names[i]] = single_feat"
   ]
  },
  {
   "cell_type": "code",
   "execution_count": 9,
   "id": "revised-graphic",
   "metadata": {},
   "outputs": [
    {
     "data": {
      "text/plain": [
       "(206, 6)"
      ]
     },
     "execution_count": 9,
     "metadata": {},
     "output_type": "execute_result"
    }
   ],
   "source": [
    "# Reading in the excel file of the data and dropping inactive entries \n",
    "df_ee = pd.read_excel('Prelim data.xlsx', engine='openpyxl')\n",
    "df_ee.dropna(subset=['Enantiomer'], inplace=True)\n",
    "df_ee.head(2)\n",
    "df_ee.shape"
   ]
  },
  {
   "cell_type": "code",
   "execution_count": 10,
   "id": "russian-chapel",
   "metadata": {},
   "outputs": [],
   "source": [
    "# Creating a dictionary for the enantiomer data extracted from the excel file above\n",
    "labels = {}\n",
    "for index, row in df_ee.iterrows():\n",
    "    labels[str(row['IRED No. '])] = row['enantiomer binary']"
   ]
  },
  {
   "cell_type": "code",
   "execution_count": 11,
   "id": "precious-asset",
   "metadata": {},
   "outputs": [],
   "source": [
    "enantiomer_list = []\n",
    "descrip_list = []\n",
    "for ired_name in labels:\n",
    "    enantiomer_list.append(labels.get(ired_name))\n",
    "    descrip_list.append(feat_seqs.get(ired_name))"
   ]
  },
  {
   "cell_type": "code",
   "execution_count": 12,
   "id": "concrete-millennium",
   "metadata": {},
   "outputs": [],
   "source": [
    "X = descrip_list\n",
    "y = enantiomer_list "
   ]
  },
  {
   "cell_type": "code",
   "execution_count": 13,
   "id": "lined-juvenile",
   "metadata": {},
   "outputs": [],
   "source": [
    "X_train, X_test, y_train, y_test = train_test_split(X, y, stratify=y, test_size=0.25, random_state=SEED)"
   ]
  },
  {
   "cell_type": "code",
   "execution_count": 14,
   "id": "authorized-greek",
   "metadata": {},
   "outputs": [
    {
     "name": "stdout",
     "output_type": "stream",
     "text": [
      "[09:32:48] WARNING: /Users/runner/miniforge3/conda-bld/xgboost_1607604592557/work/src/learner.cc:1061: Starting in XGBoost 1.3.0, the default evaluation metric used with the objective 'binary:logistic' was changed from 'error' to 'logloss'. Explicitly set eval_metric if you'd like to restore the old behavior.\n"
     ]
    },
    {
     "data": {
      "image/png": "[encoded data removed]",
      "text/plain": [
       "<Figure size 576x468 with 1 Axes>"
      ]
     },
     "metadata": {
      "image/png": {
       "height": 402,
       "width": 647
      }
     },
     "output_type": "display_data"
    }
   ],
   "source": [
    "# Getting data into correct format for fitting XGBoost model\n",
    "X_trainNPArray = np.array(X_train); X_testNPArray = np.array(X_test)\n",
    "y_trainNPArray = np.array(y_train); y_testNPArray = np.array(y_test)\n",
    "\n",
    "X_train_xgb = np.vstack(X_trainNPArray); X_test_xgb = np.vstack(X_testNPArray)\n",
    "y_train_xgb = np.vstack(y_trainNPArray); y_test_xgb = np.vstack(y_testNPArray)\n",
    "\n",
    "# Instantiating and fitting the XGBoost model\n",
    "xgb_model = xgb.XGBClassifier(objective='binary:logistic', n_estimators=10, seed=SEED, use_label_encoder=False)\n",
    "xgb_model.fit(X_train_xgb, y_train_xgb)\n",
    "\n",
    "XNPArray = np.array(X); X_xgb = np.vstack(XNPArray)\n",
    "# Explaining the model's predictions using SHAPs explainer function\n",
    "explainer = shap.Explainer(xgb_model)\n",
    "shap_values = explainer(X_xgb)\n",
    "\n",
    "# Visualising the predictor's explanation with a bar plot of ascending importance (fingers crossed...)\n",
    "ax = shap.plots.bar(shap_values)"
   ]
  },
  {
   "cell_type": "code",
   "execution_count": 15,
   "id": "laden-amateur",
   "metadata": {},
   "outputs": [
    {
     "name": "stdout",
     "output_type": "stream",
     "text": [
      "[293.5, 348.1666666666667, 366.6666666666667, 547.0, 543.6666666666666, 330.5, 503.8333333333333, 555.8333333333334, 436.5]\n"
     ]
    }
   ],
   "source": [
    "features = [1761, 2089, 2200, 3282, 3262, 1983, 3023, 3335, 2619]\n",
    "aa = []\n",
    "for i in features:\n",
    "    aa.append(i/6)\n",
    "print(aa)"
   ]
  },
  {
   "cell_type": "markdown",
   "id": "tested-impression",
   "metadata": {},
   "source": [
    "The plots above indicate that features 2113, 2506, 2640, 3938, 2379, 3914, 3627, 3220 and 4002 are to be followed up on, by extracting the AA they correspond to and finding the frequency of this residue in the 206 active IRED sequences."
   ]
  },
  {
   "cell_type": "code",
   "execution_count": 16,
   "id": "piano-walker",
   "metadata": {},
   "outputs": [],
   "source": [
    "# Creating a dictionary to enable the identification and frequency of important AA residues according to CHAP\n",
    "keyset = list(labels.keys())\n",
    "aa_dict = {}\n",
    "for key in keyset:\n",
    "    for i, sequence in enumerate(align_array):\n",
    "        if key == str(i):\n",
    "            aa_dict[key] = sequence"
   ]
  },
  {
   "cell_type": "code",
   "execution_count": 17,
   "id": "amateur-uncertainty",
   "metadata": {},
   "outputs": [
    {
     "data": {
      "text/html": [
       "<div>\n",
       "<style scoped>\n",
       "    .dataframe tbody tr th:only-of-type {\n",
       "        vertical-align: middle;\n",
       "    }\n",
       "\n",
       "    .dataframe tbody tr th {\n",
       "        vertical-align: top;\n",
       "    }\n",
       "\n",
       "    .dataframe thead th {\n",
       "        text-align: right;\n",
       "    }\n",
       "</style>\n",
       "<table border=\"1\" class=\"dataframe\">\n",
       "  <thead>\n",
       "    <tr style=\"text-align: right;\">\n",
       "      <th></th>\n",
       "      <th>0</th>\n",
       "      <th>1</th>\n",
       "      <th>2</th>\n",
       "      <th>3</th>\n",
       "      <th>4</th>\n",
       "      <th>5</th>\n",
       "      <th>6</th>\n",
       "      <th>7</th>\n",
       "      <th>8</th>\n",
       "      <th>9</th>\n",
       "      <th>...</th>\n",
       "      <th>990</th>\n",
       "      <th>991</th>\n",
       "      <th>992</th>\n",
       "      <th>993</th>\n",
       "      <th>994</th>\n",
       "      <th>995</th>\n",
       "      <th>996</th>\n",
       "      <th>997</th>\n",
       "      <th>998</th>\n",
       "      <th>999</th>\n",
       "    </tr>\n",
       "  </thead>\n",
       "  <tbody>\n",
       "    <tr>\n",
       "      <th>1</th>\n",
       "      <td>-</td>\n",
       "      <td>-</td>\n",
       "      <td>-</td>\n",
       "      <td>-</td>\n",
       "      <td>-</td>\n",
       "      <td>-</td>\n",
       "      <td>-</td>\n",
       "      <td>-</td>\n",
       "      <td>-</td>\n",
       "      <td>-</td>\n",
       "      <td>...</td>\n",
       "      <td>-</td>\n",
       "      <td>-</td>\n",
       "      <td>-</td>\n",
       "      <td>-</td>\n",
       "      <td>-</td>\n",
       "      <td>-</td>\n",
       "      <td>-</td>\n",
       "      <td>-</td>\n",
       "      <td>-</td>\n",
       "      <td>-</td>\n",
       "    </tr>\n",
       "    <tr>\n",
       "      <th>2</th>\n",
       "      <td>-</td>\n",
       "      <td>-</td>\n",
       "      <td>-</td>\n",
       "      <td>-</td>\n",
       "      <td>-</td>\n",
       "      <td>-</td>\n",
       "      <td>-</td>\n",
       "      <td>-</td>\n",
       "      <td>-</td>\n",
       "      <td>-</td>\n",
       "      <td>...</td>\n",
       "      <td>-</td>\n",
       "      <td>-</td>\n",
       "      <td>-</td>\n",
       "      <td>-</td>\n",
       "      <td>-</td>\n",
       "      <td>-</td>\n",
       "      <td>-</td>\n",
       "      <td>-</td>\n",
       "      <td>-</td>\n",
       "      <td>-</td>\n",
       "    </tr>\n",
       "  </tbody>\n",
       "</table>\n",
       "<p>2 rows × 1000 columns</p>\n",
       "</div>"
      ],
      "text/plain": [
       "  0   1   2   3   4   5   6   7   8   9    ... 990 991 992 993 994 995 996  \\\n",
       "1   -   -   -   -   -   -   -   -   -   -  ...   -   -   -   -   -   -   -   \n",
       "2   -   -   -   -   -   -   -   -   -   -  ...   -   -   -   -   -   -   -   \n",
       "\n",
       "  997 998 999  \n",
       "1   -   -   -  \n",
       "2   -   -   -  \n",
       "\n",
       "[2 rows x 1000 columns]"
      ]
     },
     "execution_count": 17,
     "metadata": {},
     "output_type": "execute_result"
    }
   ],
   "source": [
    "residue_df = pd.DataFrame.from_dict(aa_dict, orient='index')\n",
    "residue_df.head(2)"
   ]
  },
  {
   "cell_type": "code",
   "execution_count": 18,
   "id": "pursuant-airplane",
   "metadata": {},
   "outputs": [],
   "source": [
    "from collections import Counter"
   ]
  },
  {
   "cell_type": "code",
   "execution_count": 19,
   "id": "retained-mixer",
   "metadata": {},
   "outputs": [
    {
     "data": {
      "text/plain": [
       "Counter({'-': 143,\n",
       "         'A': 5,\n",
       "         'M': 10,\n",
       "         'D': 7,\n",
       "         'P': 6,\n",
       "         'H': 2,\n",
       "         'S': 6,\n",
       "         'T': 9,\n",
       "         'I': 2,\n",
       "         'R': 2,\n",
       "         'N': 3,\n",
       "         'L': 2,\n",
       "         'E': 4,\n",
       "         'K': 1,\n",
       "         'V': 2,\n",
       "         'C': 1})"
      ]
     },
     "execution_count": 19,
     "metadata": {},
     "output_type": "execute_result"
    }
   ],
   "source": [
    "position_293 = []\n",
    "for key in aa_dict.keys():\n",
    "    all_seqs = aa_dict[key]\n",
    "    position_293.append(all_seqs[292])\n",
    "\n",
    "residue_df['position 293'] = position_293\n",
    "Counter(position_293)"
   ]
  },
  {
   "cell_type": "code",
   "execution_count": 20,
   "id": "southeast-spain",
   "metadata": {},
   "outputs": [
    {
     "data": {
      "text/plain": [
       "Counter({'D': 12,\n",
       "         'G': 15,\n",
       "         'P': 64,\n",
       "         'E': 27,\n",
       "         'A': 52,\n",
       "         'S': 8,\n",
       "         'H': 2,\n",
       "         'N': 1,\n",
       "         'T': 6,\n",
       "         'Y': 1,\n",
       "         'Q': 6,\n",
       "         'V': 3,\n",
       "         'K': 4,\n",
       "         '-': 2,\n",
       "         'R': 2})"
      ]
     },
     "execution_count": 20,
     "metadata": {},
     "output_type": "execute_result"
    }
   ],
   "source": [
    "position_348 = []\n",
    "for key in aa_dict.keys():\n",
    "    all_seqs = aa_dict[key]\n",
    "    position_348.append(all_seqs[348])\n",
    "\n",
    "residue_df['position 348'] = position_348\n",
    "Counter(position_348)"
   ]
  },
  {
   "cell_type": "code",
   "execution_count": 21,
   "id": "designing-glory",
   "metadata": {},
   "outputs": [
    {
     "data": {
      "text/plain": [
       "Counter({'-': 201, 'R': 1, 'T': 1, 'K': 1, 'Q': 1})"
      ]
     },
     "execution_count": 21,
     "metadata": {},
     "output_type": "execute_result"
    }
   ],
   "source": [
    "position_366 = []\n",
    "for key in aa_dict.keys():\n",
    "    all_seqs = aa_dict[key]\n",
    "    position_366.append(all_seqs[365])\n",
    "\n",
    "residue_df['position 366'] = position_366 \n",
    "Counter(position_366)"
   ]
  },
  {
   "cell_type": "code",
   "execution_count": 22,
   "id": "systematic-glucose",
   "metadata": {
    "scrolled": true
   },
   "outputs": [
    {
     "data": {
      "text/plain": [
       "Counter({'T': 45,\n",
       "         'D': 4,\n",
       "         'V': 53,\n",
       "         'Y': 4,\n",
       "         'F': 3,\n",
       "         'L': 45,\n",
       "         'A': 18,\n",
       "         'E': 2,\n",
       "         'W': 1,\n",
       "         'Q': 2,\n",
       "         'S': 2,\n",
       "         'I': 18,\n",
       "         'M': 3,\n",
       "         'R': 1,\n",
       "         '-': 1,\n",
       "         'H': 2,\n",
       "         'P': 1})"
      ]
     },
     "execution_count": 22,
     "metadata": {},
     "output_type": "execute_result"
    }
   ],
   "source": [
    "position_547 = []\n",
    "for key in aa_dict.keys():\n",
    "    all_seqs = aa_dict[key]\n",
    "    position_547.append(all_seqs[546])\n",
    "    \n",
    "residue_df['position 547'] = position_547\n",
    "Counter(position_547)"
   ]
  },
  {
   "cell_type": "code",
   "execution_count": 23,
   "id": "understanding-circulation",
   "metadata": {},
   "outputs": [
    {
     "data": {
      "text/plain": [
       "Counter({'-': 201, 'R': 1, 'A': 1, 'G': 2})"
      ]
     },
     "execution_count": 23,
     "metadata": {},
     "output_type": "execute_result"
    }
   ],
   "source": [
    "position_543 = []\n",
    "for key in aa_dict.keys():\n",
    "    all_seqs = aa_dict[key]\n",
    "    position_543.append(all_seqs[542])\n",
    "\n",
    "residue_df['position 543'] = position_543  \n",
    "Counter(position_543)"
   ]
  },
  {
   "cell_type": "code",
   "execution_count": 24,
   "id": "electric-chess",
   "metadata": {},
   "outputs": [
    {
     "data": {
      "text/plain": [
       "Counter({'T': 67,\n",
       "         'P': 1,\n",
       "         'V': 92,\n",
       "         'L': 37,\n",
       "         'I': 3,\n",
       "         'M': 1,\n",
       "         'A': 2,\n",
       "         'R': 1,\n",
       "         'C': 1})"
      ]
     },
     "execution_count": 24,
     "metadata": {},
     "output_type": "execute_result"
    }
   ],
   "source": [
    "position_330 = []\n",
    "for key in aa_dict.keys():\n",
    "    all_seqs = aa_dict[key]\n",
    "    position_330.append(all_seqs[329])\n",
    "    \n",
    "residue_df['position 330'] = position_330\n",
    "Counter(position_330)"
   ]
  },
  {
   "cell_type": "code",
   "execution_count": 25,
   "id": "forced-moses",
   "metadata": {
    "scrolled": true
   },
   "outputs": [
    {
     "data": {
      "text/plain": [
       "Counter({'G': 131, 'A': 62, 'S': 3, 'C': 5, 'V': 2, 'I': 1, 'M': 1})"
      ]
     },
     "execution_count": 25,
     "metadata": {},
     "output_type": "execute_result"
    }
   ],
   "source": [
    "position_503 = []\n",
    "for key in aa_dict.keys():\n",
    "    all_seqs = aa_dict[key]\n",
    "    position_503.append(all_seqs[502])\n",
    "    \n",
    "residue_df['position 503'] = position_503\n",
    "Counter(position_503)"
   ]
  },
  {
   "cell_type": "code",
   "execution_count": 26,
   "id": "sensitive-float",
   "metadata": {
    "scrolled": true
   },
   "outputs": [
    {
     "data": {
      "text/plain": [
       "Counter({'-': 204, 'P': 1})"
      ]
     },
     "execution_count": 26,
     "metadata": {},
     "output_type": "execute_result"
    }
   ],
   "source": [
    "position_555 = []\n",
    "for key in aa_dict.keys():\n",
    "    all_seqs = aa_dict[key]\n",
    "    position_555.append(all_seqs[554])\n",
    "\n",
    "residue_df['position 555'] = position_555\n",
    "Counter(position_555)"
   ]
  },
  {
   "cell_type": "code",
   "execution_count": 27,
   "id": "ranking-large",
   "metadata": {
    "scrolled": true
   },
   "outputs": [
    {
     "data": {
      "text/plain": [
       "Counter({'V': 140, 'I': 51, 'L': 7, 'A': 6, 'F': 1})"
      ]
     },
     "execution_count": 27,
     "metadata": {},
     "output_type": "execute_result"
    }
   ],
   "source": [
    "position_436 = []\n",
    "for key in aa_dict.keys():\n",
    "    all_seqs = aa_dict[key]\n",
    "    position_436.append(all_seqs[435])\n",
    "    \n",
    "residue_df['position 436'] = position_436\n",
    "Counter(position_436)"
   ]
  },
  {
   "cell_type": "code",
   "execution_count": 93,
   "id": "gorgeous-composite",
   "metadata": {},
   "outputs": [
    {
     "data": {
      "text/html": [
       "<div>\n",
       "<style scoped>\n",
       "    .dataframe tbody tr th:only-of-type {\n",
       "        vertical-align: middle;\n",
       "    }\n",
       "\n",
       "    .dataframe tbody tr th {\n",
       "        vertical-align: top;\n",
       "    }\n",
       "\n",
       "    .dataframe thead th {\n",
       "        text-align: right;\n",
       "    }\n",
       "</style>\n",
       "<table border=\"1\" class=\"dataframe\">\n",
       "  <thead>\n",
       "    <tr style=\"text-align: right;\">\n",
       "      <th></th>\n",
       "      <th>0</th>\n",
       "      <th>1</th>\n",
       "      <th>2</th>\n",
       "      <th>3</th>\n",
       "      <th>4</th>\n",
       "      <th>5</th>\n",
       "      <th>6</th>\n",
       "      <th>7</th>\n",
       "      <th>8</th>\n",
       "      <th>9</th>\n",
       "      <th>...</th>\n",
       "      <th>998</th>\n",
       "      <th>999</th>\n",
       "      <th>position 352</th>\n",
       "      <th>position 417</th>\n",
       "      <th>position 440</th>\n",
       "      <th>position 396</th>\n",
       "      <th>position 652</th>\n",
       "      <th>position 604</th>\n",
       "      <th>position 536</th>\n",
       "      <th>position 667</th>\n",
       "    </tr>\n",
       "  </thead>\n",
       "  <tbody>\n",
       "    <tr>\n",
       "      <th>1</th>\n",
       "      <td>-</td>\n",
       "      <td>-</td>\n",
       "      <td>-</td>\n",
       "      <td>-</td>\n",
       "      <td>-</td>\n",
       "      <td>-</td>\n",
       "      <td>-</td>\n",
       "      <td>-</td>\n",
       "      <td>-</td>\n",
       "      <td>-</td>\n",
       "      <td>...</td>\n",
       "      <td>-</td>\n",
       "      <td>-</td>\n",
       "      <td>E</td>\n",
       "      <td>-</td>\n",
       "      <td>N</td>\n",
       "      <td>V</td>\n",
       "      <td>-</td>\n",
       "      <td>S</td>\n",
       "      <td>K</td>\n",
       "      <td>M</td>\n",
       "    </tr>\n",
       "    <tr>\n",
       "      <th>2</th>\n",
       "      <td>-</td>\n",
       "      <td>-</td>\n",
       "      <td>-</td>\n",
       "      <td>-</td>\n",
       "      <td>-</td>\n",
       "      <td>-</td>\n",
       "      <td>-</td>\n",
       "      <td>-</td>\n",
       "      <td>-</td>\n",
       "      <td>-</td>\n",
       "      <td>...</td>\n",
       "      <td>-</td>\n",
       "      <td>-</td>\n",
       "      <td>P</td>\n",
       "      <td>E</td>\n",
       "      <td>T</td>\n",
       "      <td>L</td>\n",
       "      <td>-</td>\n",
       "      <td>Y</td>\n",
       "      <td>E</td>\n",
       "      <td>D</td>\n",
       "    </tr>\n",
       "  </tbody>\n",
       "</table>\n",
       "<p>2 rows × 1008 columns</p>\n",
       "</div>"
      ],
      "text/plain": [
       "   0  1  2  3  4  5  6  7  8  9  ... 998 999 position 352 position 417  \\\n",
       "1  -  -  -  -  -  -  -  -  -  -  ...   -   -            E            -   \n",
       "2  -  -  -  -  -  -  -  -  -  -  ...   -   -            P            E   \n",
       "\n",
       "  position 440 position 396 position 652 position 604 position 536  \\\n",
       "1            N            V            -            S            K   \n",
       "2            T            L            -            Y            E   \n",
       "\n",
       "  position 667  \n",
       "1            M  \n",
       "2            D  \n",
       "\n",
       "[2 rows x 1008 columns]"
      ]
     },
     "execution_count": 93,
     "metadata": {},
     "output_type": "execute_result"
    }
   ],
   "source": [
    "residue_df.head(2)"
   ]
  },
  {
   "cell_type": "code",
   "execution_count": 96,
   "id": "enabling-israeli",
   "metadata": {},
   "outputs": [],
   "source": [
    "residue_df = residue_df[['position 293', 'position 348', 'position 366', 'position 547', 'position 543', \n",
    "                         'position 330', 'position 503', 'position 555', 'position 436']]"
   ]
  },
  {
   "cell_type": "code",
   "execution_count": 28,
   "id": "revised-pride",
   "metadata": {},
   "outputs": [
    {
     "data": {
      "text/html": [
       "<div>\n",
       "<style scoped>\n",
       "    .dataframe tbody tr th:only-of-type {\n",
       "        vertical-align: middle;\n",
       "    }\n",
       "\n",
       "    .dataframe tbody tr th {\n",
       "        vertical-align: top;\n",
       "    }\n",
       "\n",
       "    .dataframe thead th {\n",
       "        text-align: right;\n",
       "    }\n",
       "</style>\n",
       "<table border=\"1\" class=\"dataframe\">\n",
       "  <thead>\n",
       "    <tr style=\"text-align: right;\">\n",
       "      <th></th>\n",
       "      <th>0</th>\n",
       "      <th>1</th>\n",
       "      <th>2</th>\n",
       "      <th>3</th>\n",
       "      <th>4</th>\n",
       "      <th>5</th>\n",
       "      <th>6</th>\n",
       "      <th>7</th>\n",
       "      <th>8</th>\n",
       "      <th>9</th>\n",
       "      <th>...</th>\n",
       "      <th>999</th>\n",
       "      <th>position 293</th>\n",
       "      <th>position 348</th>\n",
       "      <th>position 366</th>\n",
       "      <th>position 547</th>\n",
       "      <th>position 543</th>\n",
       "      <th>position 330</th>\n",
       "      <th>position 503</th>\n",
       "      <th>position 555</th>\n",
       "      <th>position 436</th>\n",
       "    </tr>\n",
       "  </thead>\n",
       "  <tbody>\n",
       "    <tr>\n",
       "      <th>1</th>\n",
       "      <td>-</td>\n",
       "      <td>-</td>\n",
       "      <td>-</td>\n",
       "      <td>-</td>\n",
       "      <td>-</td>\n",
       "      <td>-</td>\n",
       "      <td>-</td>\n",
       "      <td>-</td>\n",
       "      <td>-</td>\n",
       "      <td>-</td>\n",
       "      <td>...</td>\n",
       "      <td>-</td>\n",
       "      <td>-</td>\n",
       "      <td>D</td>\n",
       "      <td>-</td>\n",
       "      <td>T</td>\n",
       "      <td>-</td>\n",
       "      <td>T</td>\n",
       "      <td>G</td>\n",
       "      <td>-</td>\n",
       "      <td>V</td>\n",
       "    </tr>\n",
       "    <tr>\n",
       "      <th>2</th>\n",
       "      <td>-</td>\n",
       "      <td>-</td>\n",
       "      <td>-</td>\n",
       "      <td>-</td>\n",
       "      <td>-</td>\n",
       "      <td>-</td>\n",
       "      <td>-</td>\n",
       "      <td>-</td>\n",
       "      <td>-</td>\n",
       "      <td>-</td>\n",
       "      <td>...</td>\n",
       "      <td>-</td>\n",
       "      <td>-</td>\n",
       "      <td>G</td>\n",
       "      <td>-</td>\n",
       "      <td>T</td>\n",
       "      <td>-</td>\n",
       "      <td>P</td>\n",
       "      <td>G</td>\n",
       "      <td>-</td>\n",
       "      <td>V</td>\n",
       "    </tr>\n",
       "    <tr>\n",
       "      <th>3</th>\n",
       "      <td>-</td>\n",
       "      <td>-</td>\n",
       "      <td>-</td>\n",
       "      <td>-</td>\n",
       "      <td>-</td>\n",
       "      <td>-</td>\n",
       "      <td>-</td>\n",
       "      <td>-</td>\n",
       "      <td>-</td>\n",
       "      <td>-</td>\n",
       "      <td>...</td>\n",
       "      <td>-</td>\n",
       "      <td>A</td>\n",
       "      <td>P</td>\n",
       "      <td>-</td>\n",
       "      <td>D</td>\n",
       "      <td>-</td>\n",
       "      <td>T</td>\n",
       "      <td>G</td>\n",
       "      <td>-</td>\n",
       "      <td>V</td>\n",
       "    </tr>\n",
       "    <tr>\n",
       "      <th>4</th>\n",
       "      <td>-</td>\n",
       "      <td>-</td>\n",
       "      <td>-</td>\n",
       "      <td>-</td>\n",
       "      <td>-</td>\n",
       "      <td>-</td>\n",
       "      <td>-</td>\n",
       "      <td>-</td>\n",
       "      <td>-</td>\n",
       "      <td>-</td>\n",
       "      <td>...</td>\n",
       "      <td>-</td>\n",
       "      <td>-</td>\n",
       "      <td>P</td>\n",
       "      <td>-</td>\n",
       "      <td>V</td>\n",
       "      <td>-</td>\n",
       "      <td>T</td>\n",
       "      <td>G</td>\n",
       "      <td>-</td>\n",
       "      <td>V</td>\n",
       "    </tr>\n",
       "    <tr>\n",
       "      <th>6</th>\n",
       "      <td>-</td>\n",
       "      <td>-</td>\n",
       "      <td>-</td>\n",
       "      <td>-</td>\n",
       "      <td>-</td>\n",
       "      <td>-</td>\n",
       "      <td>-</td>\n",
       "      <td>-</td>\n",
       "      <td>-</td>\n",
       "      <td>-</td>\n",
       "      <td>...</td>\n",
       "      <td>-</td>\n",
       "      <td>-</td>\n",
       "      <td>E</td>\n",
       "      <td>-</td>\n",
       "      <td>Y</td>\n",
       "      <td>-</td>\n",
       "      <td>V</td>\n",
       "      <td>G</td>\n",
       "      <td>-</td>\n",
       "      <td>I</td>\n",
       "    </tr>\n",
       "    <tr>\n",
       "      <th>...</th>\n",
       "      <td>...</td>\n",
       "      <td>...</td>\n",
       "      <td>...</td>\n",
       "      <td>...</td>\n",
       "      <td>...</td>\n",
       "      <td>...</td>\n",
       "      <td>...</td>\n",
       "      <td>...</td>\n",
       "      <td>...</td>\n",
       "      <td>...</td>\n",
       "      <td>...</td>\n",
       "      <td>...</td>\n",
       "      <td>...</td>\n",
       "      <td>...</td>\n",
       "      <td>...</td>\n",
       "      <td>...</td>\n",
       "      <td>...</td>\n",
       "      <td>...</td>\n",
       "      <td>...</td>\n",
       "      <td>...</td>\n",
       "      <td>...</td>\n",
       "    </tr>\n",
       "    <tr>\n",
       "      <th>371</th>\n",
       "      <td>-</td>\n",
       "      <td>-</td>\n",
       "      <td>-</td>\n",
       "      <td>-</td>\n",
       "      <td>-</td>\n",
       "      <td>-</td>\n",
       "      <td>-</td>\n",
       "      <td>-</td>\n",
       "      <td>-</td>\n",
       "      <td>-</td>\n",
       "      <td>...</td>\n",
       "      <td>-</td>\n",
       "      <td>-</td>\n",
       "      <td>A</td>\n",
       "      <td>-</td>\n",
       "      <td>I</td>\n",
       "      <td>-</td>\n",
       "      <td>V</td>\n",
       "      <td>A</td>\n",
       "      <td>-</td>\n",
       "      <td>V</td>\n",
       "    </tr>\n",
       "    <tr>\n",
       "      <th>373</th>\n",
       "      <td>-</td>\n",
       "      <td>-</td>\n",
       "      <td>-</td>\n",
       "      <td>-</td>\n",
       "      <td>-</td>\n",
       "      <td>-</td>\n",
       "      <td>-</td>\n",
       "      <td>-</td>\n",
       "      <td>-</td>\n",
       "      <td>-</td>\n",
       "      <td>...</td>\n",
       "      <td>-</td>\n",
       "      <td>-</td>\n",
       "      <td>A</td>\n",
       "      <td>-</td>\n",
       "      <td>A</td>\n",
       "      <td>-</td>\n",
       "      <td>V</td>\n",
       "      <td>A</td>\n",
       "      <td>-</td>\n",
       "      <td>V</td>\n",
       "    </tr>\n",
       "    <tr>\n",
       "      <th>374</th>\n",
       "      <td>-</td>\n",
       "      <td>-</td>\n",
       "      <td>-</td>\n",
       "      <td>-</td>\n",
       "      <td>-</td>\n",
       "      <td>-</td>\n",
       "      <td>-</td>\n",
       "      <td>-</td>\n",
       "      <td>-</td>\n",
       "      <td>-</td>\n",
       "      <td>...</td>\n",
       "      <td>-</td>\n",
       "      <td>-</td>\n",
       "      <td>Q</td>\n",
       "      <td>-</td>\n",
       "      <td>V</td>\n",
       "      <td>-</td>\n",
       "      <td>V</td>\n",
       "      <td>A</td>\n",
       "      <td>-</td>\n",
       "      <td>V</td>\n",
       "    </tr>\n",
       "    <tr>\n",
       "      <th>377</th>\n",
       "      <td>-</td>\n",
       "      <td>-</td>\n",
       "      <td>-</td>\n",
       "      <td>-</td>\n",
       "      <td>-</td>\n",
       "      <td>-</td>\n",
       "      <td>-</td>\n",
       "      <td>-</td>\n",
       "      <td>-</td>\n",
       "      <td>-</td>\n",
       "      <td>...</td>\n",
       "      <td>-</td>\n",
       "      <td>-</td>\n",
       "      <td>K</td>\n",
       "      <td>-</td>\n",
       "      <td>V</td>\n",
       "      <td>-</td>\n",
       "      <td>V</td>\n",
       "      <td>A</td>\n",
       "      <td>-</td>\n",
       "      <td>V</td>\n",
       "    </tr>\n",
       "    <tr>\n",
       "      <th>382</th>\n",
       "      <td>-</td>\n",
       "      <td>-</td>\n",
       "      <td>-</td>\n",
       "      <td>-</td>\n",
       "      <td>-</td>\n",
       "      <td>-</td>\n",
       "      <td>-</td>\n",
       "      <td>-</td>\n",
       "      <td>-</td>\n",
       "      <td>-</td>\n",
       "      <td>...</td>\n",
       "      <td>-</td>\n",
       "      <td>-</td>\n",
       "      <td>E</td>\n",
       "      <td>-</td>\n",
       "      <td>I</td>\n",
       "      <td>-</td>\n",
       "      <td>V</td>\n",
       "      <td>A</td>\n",
       "      <td>-</td>\n",
       "      <td>V</td>\n",
       "    </tr>\n",
       "  </tbody>\n",
       "</table>\n",
       "<p>205 rows × 1009 columns</p>\n",
       "</div>"
      ],
      "text/plain": [
       "     0  1  2  3  4  5  6  7  8  9  ... 999 position 293 position 348  \\\n",
       "1    -  -  -  -  -  -  -  -  -  -  ...   -            -            D   \n",
       "2    -  -  -  -  -  -  -  -  -  -  ...   -            -            G   \n",
       "3    -  -  -  -  -  -  -  -  -  -  ...   -            A            P   \n",
       "4    -  -  -  -  -  -  -  -  -  -  ...   -            -            P   \n",
       "6    -  -  -  -  -  -  -  -  -  -  ...   -            -            E   \n",
       "..  .. .. .. .. .. .. .. .. .. ..  ...  ..          ...          ...   \n",
       "371  -  -  -  -  -  -  -  -  -  -  ...   -            -            A   \n",
       "373  -  -  -  -  -  -  -  -  -  -  ...   -            -            A   \n",
       "374  -  -  -  -  -  -  -  -  -  -  ...   -            -            Q   \n",
       "377  -  -  -  -  -  -  -  -  -  -  ...   -            -            K   \n",
       "382  -  -  -  -  -  -  -  -  -  -  ...   -            -            E   \n",
       "\n",
       "    position 366 position 547 position 543 position 330 position 503  \\\n",
       "1              -            T            -            T            G   \n",
       "2              -            T            -            P            G   \n",
       "3              -            D            -            T            G   \n",
       "4              -            V            -            T            G   \n",
       "6              -            Y            -            V            G   \n",
       "..           ...          ...          ...          ...          ...   \n",
       "371            -            I            -            V            A   \n",
       "373            -            A            -            V            A   \n",
       "374            -            V            -            V            A   \n",
       "377            -            V            -            V            A   \n",
       "382            -            I            -            V            A   \n",
       "\n",
       "    position 555 position 436  \n",
       "1              -            V  \n",
       "2              -            V  \n",
       "3              -            V  \n",
       "4              -            V  \n",
       "6              -            I  \n",
       "..           ...          ...  \n",
       "371            -            V  \n",
       "373            -            V  \n",
       "374            -            V  \n",
       "377            -            V  \n",
       "382            -            V  \n",
       "\n",
       "[205 rows x 1009 columns]"
      ]
     },
     "execution_count": 28,
     "metadata": {},
     "output_type": "execute_result"
    }
   ],
   "source": [
    "residue_df"
   ]
  },
  {
   "cell_type": "code",
   "execution_count": 29,
   "id": "magnetic-flesh",
   "metadata": {},
   "outputs": [
    {
     "data": {
      "text/plain": [
       "(205, 5)"
      ]
     },
     "execution_count": 29,
     "metadata": {},
     "output_type": "execute_result"
    }
   ],
   "source": [
    "df = pd.read_excel('Prelim data.xlsx', engine='openpyxl')\n",
    "df.dropna(subset=['enantiomer binary'], inplace=True)\n",
    "df.set_index('IRED No. ', inplace=True)\n",
    "df.drop(384, inplace=True)\n",
    "df.shape"
   ]
  },
  {
   "cell_type": "code",
   "execution_count": 30,
   "id": "strong-practitioner",
   "metadata": {},
   "outputs": [
    {
     "data": {
      "text/html": [
       "<div>\n",
       "<style scoped>\n",
       "    .dataframe tbody tr th:only-of-type {\n",
       "        vertical-align: middle;\n",
       "    }\n",
       "\n",
       "    .dataframe tbody tr th {\n",
       "        vertical-align: top;\n",
       "    }\n",
       "\n",
       "    .dataframe thead th {\n",
       "        text-align: right;\n",
       "    }\n",
       "</style>\n",
       "<table border=\"1\" class=\"dataframe\">\n",
       "  <thead>\n",
       "    <tr style=\"text-align: right;\">\n",
       "      <th></th>\n",
       "      <th>Reaction 2</th>\n",
       "      <th>ee</th>\n",
       "      <th>Enantiomer</th>\n",
       "      <th>enantiomer binary</th>\n",
       "      <th>Sequence</th>\n",
       "    </tr>\n",
       "    <tr>\n",
       "      <th>IRED No.</th>\n",
       "      <th></th>\n",
       "      <th></th>\n",
       "      <th></th>\n",
       "      <th></th>\n",
       "      <th></th>\n",
       "    </tr>\n",
       "  </thead>\n",
       "  <tbody>\n",
       "    <tr>\n",
       "      <th>371</th>\n",
       "      <td>64% (85% ee, R)</td>\n",
       "      <td>85.0</td>\n",
       "      <td>R</td>\n",
       "      <td>0.0</td>\n",
       "      <td>MTGHHRTPVTVVGLGSMGSALAEAFVDAGHAVTVWNRTPSKAAPLV...</td>\n",
       "    </tr>\n",
       "    <tr>\n",
       "      <th>373</th>\n",
       "      <td>22% (83% ee, R)</td>\n",
       "      <td>83.0</td>\n",
       "      <td>R</td>\n",
       "      <td>0.0</td>\n",
       "      <td>MTSHAEHSAVTVLGLGPMGRALANAFLDAGLRTTVWNRTPGRDREL...</td>\n",
       "    </tr>\n",
       "    <tr>\n",
       "      <th>374</th>\n",
       "      <td>97%  (&gt;99% ee, S)</td>\n",
       "      <td>99.0</td>\n",
       "      <td>S</td>\n",
       "      <td>1.0</td>\n",
       "      <td>MSSVSIFGLGAMGTAMAARFLEKNFKVTVWNRTPEKANKLLDKGAS...</td>\n",
       "    </tr>\n",
       "    <tr>\n",
       "      <th>377</th>\n",
       "      <td>8% (&gt;99% ee, S)</td>\n",
       "      <td>99.0</td>\n",
       "      <td>S</td>\n",
       "      <td>1.0</td>\n",
       "      <td>MSEKIAFLGLGNLGYPIAESLINSGFDVTVWNRTASKADPLVKLGA...</td>\n",
       "    </tr>\n",
       "    <tr>\n",
       "      <th>382</th>\n",
       "      <td>2% (S)</td>\n",
       "      <td>2.0</td>\n",
       "      <td>S</td>\n",
       "      <td>1.0</td>\n",
       "      <td>MLKAGHPTTIWNRSPGKGEDLVARGATRAATPAEAVRAGEVVVVCV...</td>\n",
       "    </tr>\n",
       "  </tbody>\n",
       "</table>\n",
       "</div>"
      ],
      "text/plain": [
       "                  Reaction 2    ee Enantiomer  enantiomer binary  \\\n",
       "IRED No.                                                           \n",
       "371          64% (85% ee, R)  85.0          R                0.0   \n",
       "373          22% (83% ee, R)  83.0          R                0.0   \n",
       "374        97%  (>99% ee, S)  99.0          S                1.0   \n",
       "377          8% (>99% ee, S)  99.0          S                1.0   \n",
       "382                   2% (S)   2.0          S                1.0   \n",
       "\n",
       "                                                    Sequence  \n",
       "IRED No.                                                      \n",
       "371        MTGHHRTPVTVVGLGSMGSALAEAFVDAGHAVTVWNRTPSKAAPLV...  \n",
       "373        MTSHAEHSAVTVLGLGPMGRALANAFLDAGLRTTVWNRTPGRDREL...  \n",
       "374        MSSVSIFGLGAMGTAMAARFLEKNFKVTVWNRTPEKANKLLDKGAS...  \n",
       "377        MSEKIAFLGLGNLGYPIAESLINSGFDVTVWNRTASKADPLVKLGA...  \n",
       "382        MLKAGHPTTIWNRSPGKGEDLVARGATRAATPAEAVRAGEVVVVCV...  "
      ]
     },
     "execution_count": 30,
     "metadata": {},
     "output_type": "execute_result"
    }
   ],
   "source": [
    "df.tail()"
   ]
  },
  {
   "cell_type": "code",
   "execution_count": 32,
   "id": "expressed-college",
   "metadata": {},
   "outputs": [],
   "source": [
    "df['position 293'] = position_293\n",
    "df['position 348'] = position_348\n",
    "df['position 366'] = position_366\n",
    "df['position 547'] = position_547\n",
    "df['position 543'] = position_543\n",
    "df['position 330'] = position_330\n",
    "df['position 503'] = position_503\n",
    "df['position 555'] = position_555\n",
    "df['position 436'] = position_436"
   ]
  },
  {
   "cell_type": "code",
   "execution_count": 33,
   "id": "controlling-resistance",
   "metadata": {},
   "outputs": [],
   "source": [
    "df.drop(columns='Sequence', inplace=True)"
   ]
  },
  {
   "cell_type": "code",
   "execution_count": 34,
   "id": "knowing-detector",
   "metadata": {},
   "outputs": [
    {
     "data": {
      "text/html": [
       "<div>\n",
       "<style scoped>\n",
       "    .dataframe tbody tr th:only-of-type {\n",
       "        vertical-align: middle;\n",
       "    }\n",
       "\n",
       "    .dataframe tbody tr th {\n",
       "        vertical-align: top;\n",
       "    }\n",
       "\n",
       "    .dataframe thead th {\n",
       "        text-align: right;\n",
       "    }\n",
       "</style>\n",
       "<table border=\"1\" class=\"dataframe\">\n",
       "  <thead>\n",
       "    <tr style=\"text-align: right;\">\n",
       "      <th></th>\n",
       "      <th>Reaction 2</th>\n",
       "      <th>ee</th>\n",
       "      <th>Enantiomer</th>\n",
       "      <th>enantiomer binary</th>\n",
       "      <th>position 293</th>\n",
       "      <th>position 348</th>\n",
       "      <th>position 366</th>\n",
       "      <th>position 547</th>\n",
       "      <th>position 543</th>\n",
       "      <th>position 330</th>\n",
       "      <th>position 503</th>\n",
       "      <th>position 555</th>\n",
       "      <th>position 436</th>\n",
       "    </tr>\n",
       "    <tr>\n",
       "      <th>IRED No.</th>\n",
       "      <th></th>\n",
       "      <th></th>\n",
       "      <th></th>\n",
       "      <th></th>\n",
       "      <th></th>\n",
       "      <th></th>\n",
       "      <th></th>\n",
       "      <th></th>\n",
       "      <th></th>\n",
       "      <th></th>\n",
       "      <th></th>\n",
       "      <th></th>\n",
       "      <th></th>\n",
       "    </tr>\n",
       "  </thead>\n",
       "  <tbody>\n",
       "    <tr>\n",
       "      <th>1</th>\n",
       "      <td>62% (33% ee, S)</td>\n",
       "      <td>33.0</td>\n",
       "      <td>S</td>\n",
       "      <td>1.0</td>\n",
       "      <td>-</td>\n",
       "      <td>D</td>\n",
       "      <td>-</td>\n",
       "      <td>T</td>\n",
       "      <td>-</td>\n",
       "      <td>T</td>\n",
       "      <td>G</td>\n",
       "      <td>-</td>\n",
       "      <td>V</td>\n",
       "    </tr>\n",
       "    <tr>\n",
       "      <th>2</th>\n",
       "      <td>67% (46% ee, S)</td>\n",
       "      <td>46.0</td>\n",
       "      <td>S</td>\n",
       "      <td>1.0</td>\n",
       "      <td>-</td>\n",
       "      <td>G</td>\n",
       "      <td>-</td>\n",
       "      <td>T</td>\n",
       "      <td>-</td>\n",
       "      <td>P</td>\n",
       "      <td>G</td>\n",
       "      <td>-</td>\n",
       "      <td>V</td>\n",
       "    </tr>\n",
       "  </tbody>\n",
       "</table>\n",
       "</div>"
      ],
      "text/plain": [
       "                Reaction 2    ee Enantiomer  enantiomer binary position 293  \\\n",
       "IRED No.                                                                      \n",
       "1          62% (33% ee, S)  33.0          S                1.0            -   \n",
       "2          67% (46% ee, S)  46.0          S                1.0            -   \n",
       "\n",
       "          position 348 position 366 position 547 position 543 position 330  \\\n",
       "IRED No.                                                                     \n",
       "1                    D            -            T            -            T   \n",
       "2                    G            -            T            -            P   \n",
       "\n",
       "          position 503 position 555 position 436  \n",
       "IRED No.                                          \n",
       "1                    G            -            V  \n",
       "2                    G            -            V  "
      ]
     },
     "execution_count": 34,
     "metadata": {},
     "output_type": "execute_result"
    }
   ],
   "source": [
    "df.head(2)"
   ]
  },
  {
   "cell_type": "code",
   "execution_count": 35,
   "id": "adequate-sleeve",
   "metadata": {},
   "outputs": [
    {
     "data": {
      "image/png": "[encoded data removed]",
      "text/plain": [
       "<Figure size 432x288 with 1 Axes>"
      ]
     },
     "metadata": {
      "image/png": {
       "height": 261,
       "width": 388
      },
      "needs_background": "light"
     },
     "output_type": "display_data"
    }
   ],
   "source": [
    "sns_plot = sns.countplot(data=df, x='position 293', hue='Enantiomer', order=df['position 293'].value_counts().index)"
   ]
  },
  {
   "cell_type": "code",
   "execution_count": 36,
   "id": "interstate-referral",
   "metadata": {},
   "outputs": [
    {
     "data": {
      "image/png": "[encoded data removed]",
      "text/plain": [
       "<Figure size 432x288 with 1 Axes>"
      ]
     },
     "metadata": {
      "image/png": {
       "height": 261,
       "width": 382
      },
      "needs_background": "light"
     },
     "output_type": "display_data"
    }
   ],
   "source": [
    "ax = sns.countplot(data=df, x='position 348', hue='Enantiomer', order=df['position 348'].value_counts().index) "
   ]
  },
  {
   "cell_type": "code",
   "execution_count": 37,
   "id": "suburban-remedy",
   "metadata": {},
   "outputs": [
    {
     "data": {
      "image/png": "[encoded data removed]",
      "text/plain": [
       "<Figure size 432x288 with 1 Axes>"
      ]
     },
     "metadata": {
      "image/png": {
       "height": 261,
       "width": 388
      },
      "needs_background": "light"
     },
     "output_type": "display_data"
    }
   ],
   "source": [
    "ax = sns.countplot(data=df, x='position 366', hue='Enantiomer', order=df['position 366'].value_counts().index)"
   ]
  },
  {
   "cell_type": "code",
   "execution_count": 39,
   "id": "exact-clearance",
   "metadata": {},
   "outputs": [
    {
     "data": {
      "image/png": "[encoded data removed]",
      "text/plain": [
       "<Figure size 432x288 with 1 Axes>"
      ]
     },
     "metadata": {
      "image/png": {
       "height": 261,
       "width": 382
      },
      "needs_background": "light"
     },
     "output_type": "display_data"
    }
   ],
   "source": [
    "ax = sns.countplot(data=df, x='position 547', hue='Enantiomer', order=df['position 547'].value_counts().index)"
   ]
  },
  {
   "cell_type": "code",
   "execution_count": 40,
   "id": "foreign-convention",
   "metadata": {},
   "outputs": [
    {
     "data": {
      "image/png": "[encoded data removed]",
      "text/plain": [
       "<Figure size 432x288 with 1 Axes>"
      ]
     },
     "metadata": {
      "image/png": {
       "height": 261,
       "width": 388
      },
      "needs_background": "light"
     },
     "output_type": "display_data"
    }
   ],
   "source": [
    "ax = sns.countplot(data=df, x='position 543', hue='Enantiomer', order=df['position 543'].value_counts().index) "
   ]
  },
  {
   "cell_type": "code",
   "execution_count": 41,
   "id": "mexican-enhancement",
   "metadata": {},
   "outputs": [
    {
     "data": {
      "image/png": "[encoded data removed]",
      "text/plain": [
       "<Figure size 432x288 with 1 Axes>"
      ]
     },
     "metadata": {
      "image/png": {
       "height": 261,
       "width": 382
      },
      "needs_background": "light"
     },
     "output_type": "display_data"
    }
   ],
   "source": [
    "ax = sns.countplot(data=df, x='position 330', hue='Enantiomer', order=df['position 330'].value_counts().index)"
   ]
  },
  {
   "cell_type": "code",
   "execution_count": 42,
   "id": "intensive-mechanics",
   "metadata": {},
   "outputs": [
    {
     "data": {
      "image/png": "[encoded data removed]",
      "text/plain": [
       "<Figure size 432x288 with 1 Axes>"
      ]
     },
     "metadata": {
      "image/png": {
       "height": 261,
       "width": 388
      },
      "needs_background": "light"
     },
     "output_type": "display_data"
    }
   ],
   "source": [
    "ax = sns.countplot(data=df, x='position 503', hue='Enantiomer', order=df['position 503'].value_counts().index)"
   ]
  },
  {
   "cell_type": "code",
   "execution_count": 43,
   "id": "hydraulic-minute",
   "metadata": {},
   "outputs": [
    {
     "data": {
      "image/png": "[encoded data removed]",
      "text/plain": [
       "<Figure size 432x288 with 1 Axes>"
      ]
     },
     "metadata": {
      "image/png": {
       "height": 264,
       "width": 388
      },
      "needs_background": "light"
     },
     "output_type": "display_data"
    }
   ],
   "source": [
    "ax = sns.countplot(data=df, x='position 555', hue='Enantiomer', order=df['position 555'].value_counts().index)"
   ]
  },
  {
   "cell_type": "code",
   "execution_count": 45,
   "id": "automotive-easter",
   "metadata": {},
   "outputs": [
    {
     "data": {
      "image/png": "[encoded data removed]",
      "text/plain": [
       "<Figure size 432x288 with 1 Axes>"
      ]
     },
     "metadata": {
      "image/png": {
       "height": 261,
       "width": 388
      },
      "needs_background": "light"
     },
     "output_type": "display_data"
    }
   ],
   "source": [
    "ax = sns.countplot(data=df, x='position 436', hue='Enantiomer', order=df['position 436'].value_counts().index)"
   ]
  },
  {
   "cell_type": "code",
   "execution_count": null,
   "id": "adequate-filename",
   "metadata": {},
   "outputs": [],
   "source": []
  }
 ],
 "metadata": {
  "kernelspec": {
   "display_name": "Python 3",
   "language": "python",
   "name": "python3"
  },
  "language_info": {
   "codemirror_mode": {
    "name": "ipython",
    "version": 3
   },
   "file_extension": ".py",
   "mimetype": "text/x-python",
   "name": "python",
   "nbconvert_exporter": "python",
   "pygments_lexer": "ipython3",
   "version": "3.8.5"
  }
 },
 "nbformat": 4,
 "nbformat_minor": 5
}
