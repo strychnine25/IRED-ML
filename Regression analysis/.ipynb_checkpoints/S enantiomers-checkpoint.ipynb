{
 "cells": [
  {
   "cell_type": "markdown",
   "id": "veterinary-married",
   "metadata": {},
   "source": [
    "# Investigating regression - S enantiomer data"
   ]
  },
  {
   "cell_type": "code",
   "execution_count": 1,
   "id": "grand-marshall",
   "metadata": {},
   "outputs": [],
   "source": [
    "import pandas as pd\n",
    "import numpy as np\n",
    "from sklearn.model_selection import train_test_split\n",
    "from sklearn.linear_model import LinearRegression\n",
    "from sklearn.metrics import mean_squared_error, r2_score\n",
    "\n",
    "import seaborn as sns\n",
    "\n",
    "sns.set(rc={'figure.figsize': (5, 5)})\n",
    "sns.set(font_scale=1.5)\n",
    "sns.set_style('whitegrid')\n",
    "sns.set_theme()\n",
    "%config InlineBackend.figure_format = 'retina'"
   ]
  },
  {
   "cell_type": "code",
   "execution_count": 2,
   "id": "certified-elevation",
   "metadata": {
    "scrolled": true
   },
   "outputs": [
    {
     "data": {
      "text/html": [
       "<div>\n",
       "<style scoped>\n",
       "    .dataframe tbody tr th:only-of-type {\n",
       "        vertical-align: middle;\n",
       "    }\n",
       "\n",
       "    .dataframe tbody tr th {\n",
       "        vertical-align: top;\n",
       "    }\n",
       "\n",
       "    .dataframe thead th {\n",
       "        text-align: right;\n",
       "    }\n",
       "</style>\n",
       "<table border=\"1\" class=\"dataframe\">\n",
       "  <thead>\n",
       "    <tr style=\"text-align: right;\">\n",
       "      <th></th>\n",
       "      <th>Reaction 2</th>\n",
       "      <th>ee</th>\n",
       "      <th>Enantiomer</th>\n",
       "      <th>enantiomer binary</th>\n",
       "      <th>Sequence</th>\n",
       "      <th>ActiveSiteSequence</th>\n",
       "      <th>CofactorSiteSequence</th>\n",
       "      <th>ActiveSiteCharge</th>\n",
       "      <th>NumOfAcidicRes</th>\n",
       "      <th>NumOfBasicRes</th>\n",
       "      <th>NumOfHisRes</th>\n",
       "      <th>AllActiveSiteRes</th>\n",
       "      <th>embedding</th>\n",
       "      <th>em_per_protein</th>\n",
       "    </tr>\n",
       "    <tr>\n",
       "      <th>IRED No.</th>\n",
       "      <th></th>\n",
       "      <th></th>\n",
       "      <th></th>\n",
       "      <th></th>\n",
       "      <th></th>\n",
       "      <th></th>\n",
       "      <th></th>\n",
       "      <th></th>\n",
       "      <th></th>\n",
       "      <th></th>\n",
       "      <th></th>\n",
       "      <th></th>\n",
       "      <th></th>\n",
       "      <th></th>\n",
       "    </tr>\n",
       "  </thead>\n",
       "  <tbody>\n",
       "    <tr>\n",
       "      <th>1</th>\n",
       "      <td>62% (33% ee, S)</td>\n",
       "      <td>33.0</td>\n",
       "      <td>S</td>\n",
       "      <td>1.0</td>\n",
       "      <td>MSTKKVTVIGLGSLGSALAAALLRTGHDVTVWNRTPEKAEALVAQG...</td>\n",
       "      <td>WGMYASSINVALILSAVMAVPADLLLYGYL</td>\n",
       "      <td>WMASSIVAKIGLGSLGSALWNRTPEKVVCVFDTEAARELLNLTSGG...</td>\n",
       "      <td>-1.0</td>\n",
       "      <td>1.0</td>\n",
       "      <td>0.0</td>\n",
       "      <td>0.0</td>\n",
       "      <td>[('204', 'TRP'), ('207', 'GLY'), ('208', 'MET'...</td>\n",
       "      <td>[[[0.16993958, -0.03258724, 0.05482708, -0.085...</td>\n",
       "      <td>[0.040156763, -0.117751405, -0.030865876, 0.09...</td>\n",
       "    </tr>\n",
       "    <tr>\n",
       "      <th>2</th>\n",
       "      <td>67% (46% ee, S)</td>\n",
       "      <td>46.0</td>\n",
       "      <td>S</td>\n",
       "      <td>1.0</td>\n",
       "      <td>MTDTSAKLTLLGLGAMGSALATAWLAADYDITVWNRTASRAEPLRT...</td>\n",
       "      <td>WAMYTSNMMEGNMTMTGIMAVPPMDVLLSMTF</td>\n",
       "      <td>WTSNMEGTLLGLGAMGSALWNRTASRAACLLDDASVSTLNLTTGGG...</td>\n",
       "      <td>-2.0</td>\n",
       "      <td>2.0</td>\n",
       "      <td>0.0</td>\n",
       "      <td>0.0</td>\n",
       "      <td>[('209', 'TRP'), ('212', 'ALA'), ('213', 'MET'...</td>\n",
       "      <td>[[[0.16993958, -0.032587238, 0.05482708, -0.08...</td>\n",
       "      <td>[0.05249873, -0.11437141, -0.12927642, -0.0184...</td>\n",
       "    </tr>\n",
       "  </tbody>\n",
       "</table>\n",
       "</div>"
      ],
      "text/plain": [
       "                Reaction 2    ee Enantiomer  enantiomer binary  \\\n",
       "IRED No.                                                         \n",
       "1          62% (33% ee, S)  33.0          S                1.0   \n",
       "2          67% (46% ee, S)  46.0          S                1.0   \n",
       "\n",
       "                                                    Sequence  \\\n",
       "IRED No.                                                       \n",
       "1          MSTKKVTVIGLGSLGSALAAALLRTGHDVTVWNRTPEKAEALVAQG...   \n",
       "2          MTDTSAKLTLLGLGAMGSALATAWLAADYDITVWNRTASRAEPLRT...   \n",
       "\n",
       "                         ActiveSiteSequence  \\\n",
       "IRED No.                                      \n",
       "1            WGMYASSINVALILSAVMAVPADLLLYGYL   \n",
       "2          WAMYTSNMMEGNMTMTGIMAVPPMDVLLSMTF   \n",
       "\n",
       "                                        CofactorSiteSequence  \\\n",
       "IRED No.                                                       \n",
       "1          WMASSIVAKIGLGSLGSALWNRTPEKVVCVFDTEAARELLNLTSGG...   \n",
       "2          WTSNMEGTLLGLGAMGSALWNRTASRAACLLDDASVSTLNLTTGGG...   \n",
       "\n",
       "           ActiveSiteCharge  NumOfAcidicRes  NumOfBasicRes  NumOfHisRes  \\\n",
       "IRED No.                                                                  \n",
       "1                      -1.0             1.0            0.0          0.0   \n",
       "2                      -2.0             2.0            0.0          0.0   \n",
       "\n",
       "                                            AllActiveSiteRes  \\\n",
       "IRED No.                                                       \n",
       "1          [('204', 'TRP'), ('207', 'GLY'), ('208', 'MET'...   \n",
       "2          [('209', 'TRP'), ('212', 'ALA'), ('213', 'MET'...   \n",
       "\n",
       "                                                   embedding  \\\n",
       "IRED No.                                                       \n",
       "1          [[[0.16993958, -0.03258724, 0.05482708, -0.085...   \n",
       "2          [[[0.16993958, -0.032587238, 0.05482708, -0.08...   \n",
       "\n",
       "                                              em_per_protein  \n",
       "IRED No.                                                      \n",
       "1          [0.040156763, -0.117751405, -0.030865876, 0.09...  \n",
       "2          [0.05249873, -0.11437141, -0.12927642, -0.0184...  "
      ]
     },
     "execution_count": 2,
     "metadata": {},
     "output_type": "execute_result"
    }
   ],
   "source": [
    "df = pd.read_pickle('ActiveSiteSeqs SeqVec.pkl')\n",
    "df.set_index('IRED No. ', inplace=True)\n",
    "df.head(2)"
   ]
  },
  {
   "cell_type": "code",
   "execution_count": 3,
   "id": "informative-witness",
   "metadata": {},
   "outputs": [],
   "source": [
    "s_df = df[df['Enantiomer'] == 'S']"
   ]
  },
  {
   "cell_type": "code",
   "execution_count": 4,
   "id": "premium-offset",
   "metadata": {
    "scrolled": false
   },
   "outputs": [
    {
     "data": {
      "text/html": [
       "<div>\n",
       "<style scoped>\n",
       "    .dataframe tbody tr th:only-of-type {\n",
       "        vertical-align: middle;\n",
       "    }\n",
       "\n",
       "    .dataframe tbody tr th {\n",
       "        vertical-align: top;\n",
       "    }\n",
       "\n",
       "    .dataframe thead th {\n",
       "        text-align: right;\n",
       "    }\n",
       "</style>\n",
       "<table border=\"1\" class=\"dataframe\">\n",
       "  <thead>\n",
       "    <tr style=\"text-align: right;\">\n",
       "      <th></th>\n",
       "      <th>Reaction 2</th>\n",
       "      <th>ee</th>\n",
       "      <th>Enantiomer</th>\n",
       "      <th>enantiomer binary</th>\n",
       "      <th>Sequence</th>\n",
       "      <th>ActiveSiteSequence</th>\n",
       "      <th>CofactorSiteSequence</th>\n",
       "      <th>ActiveSiteCharge</th>\n",
       "      <th>NumOfAcidicRes</th>\n",
       "      <th>NumOfBasicRes</th>\n",
       "      <th>NumOfHisRes</th>\n",
       "      <th>AllActiveSiteRes</th>\n",
       "      <th>embedding</th>\n",
       "      <th>em_per_protein</th>\n",
       "    </tr>\n",
       "    <tr>\n",
       "      <th>IRED No.</th>\n",
       "      <th></th>\n",
       "      <th></th>\n",
       "      <th></th>\n",
       "      <th></th>\n",
       "      <th></th>\n",
       "      <th></th>\n",
       "      <th></th>\n",
       "      <th></th>\n",
       "      <th></th>\n",
       "      <th></th>\n",
       "      <th></th>\n",
       "      <th></th>\n",
       "      <th></th>\n",
       "      <th></th>\n",
       "    </tr>\n",
       "  </thead>\n",
       "  <tbody>\n",
       "    <tr>\n",
       "      <th>1</th>\n",
       "      <td>62% (33% ee, S)</td>\n",
       "      <td>33.0</td>\n",
       "      <td>S</td>\n",
       "      <td>1.0</td>\n",
       "      <td>MSTKKVTVIGLGSLGSALAAALLRTGHDVTVWNRTPEKAEALVAQG...</td>\n",
       "      <td>WGMYASSINVALILSAVMAVPADLLLYGYL</td>\n",
       "      <td>WMASSIVAKIGLGSLGSALWNRTPEKVVCVFDTEAARELLNLTSGG...</td>\n",
       "      <td>-1.0</td>\n",
       "      <td>1.0</td>\n",
       "      <td>0.0</td>\n",
       "      <td>0.0</td>\n",
       "      <td>[('204', 'TRP'), ('207', 'GLY'), ('208', 'MET'...</td>\n",
       "      <td>[[[0.16993958, -0.03258724, 0.05482708, -0.085...</td>\n",
       "      <td>[0.040156763, -0.117751405, -0.030865876, 0.09...</td>\n",
       "    </tr>\n",
       "    <tr>\n",
       "      <th>2</th>\n",
       "      <td>67% (46% ee, S)</td>\n",
       "      <td>46.0</td>\n",
       "      <td>S</td>\n",
       "      <td>1.0</td>\n",
       "      <td>MTDTSAKLTLLGLGAMGSALATAWLAADYDITVWNRTASRAEPLRT...</td>\n",
       "      <td>WAMYTSNMMEGNMTMTGIMAVPPMDVLLSMTF</td>\n",
       "      <td>WTSNMEGTLLGLGAMGSALWNRTASRAACLLDDASVSTLNLTTGGG...</td>\n",
       "      <td>-2.0</td>\n",
       "      <td>2.0</td>\n",
       "      <td>0.0</td>\n",
       "      <td>0.0</td>\n",
       "      <td>[('209', 'TRP'), ('212', 'ALA'), ('213', 'MET'...</td>\n",
       "      <td>[[[0.16993958, -0.032587238, 0.05482708, -0.08...</td>\n",
       "      <td>[0.05249873, -0.11437141, -0.12927642, -0.0184...</td>\n",
       "    </tr>\n",
       "  </tbody>\n",
       "</table>\n",
       "</div>"
      ],
      "text/plain": [
       "                Reaction 2    ee Enantiomer  enantiomer binary  \\\n",
       "IRED No.                                                         \n",
       "1          62% (33% ee, S)  33.0          S                1.0   \n",
       "2          67% (46% ee, S)  46.0          S                1.0   \n",
       "\n",
       "                                                    Sequence  \\\n",
       "IRED No.                                                       \n",
       "1          MSTKKVTVIGLGSLGSALAAALLRTGHDVTVWNRTPEKAEALVAQG...   \n",
       "2          MTDTSAKLTLLGLGAMGSALATAWLAADYDITVWNRTASRAEPLRT...   \n",
       "\n",
       "                         ActiveSiteSequence  \\\n",
       "IRED No.                                      \n",
       "1            WGMYASSINVALILSAVMAVPADLLLYGYL   \n",
       "2          WAMYTSNMMEGNMTMTGIMAVPPMDVLLSMTF   \n",
       "\n",
       "                                        CofactorSiteSequence  \\\n",
       "IRED No.                                                       \n",
       "1          WMASSIVAKIGLGSLGSALWNRTPEKVVCVFDTEAARELLNLTSGG...   \n",
       "2          WTSNMEGTLLGLGAMGSALWNRTASRAACLLDDASVSTLNLTTGGG...   \n",
       "\n",
       "           ActiveSiteCharge  NumOfAcidicRes  NumOfBasicRes  NumOfHisRes  \\\n",
       "IRED No.                                                                  \n",
       "1                      -1.0             1.0            0.0          0.0   \n",
       "2                      -2.0             2.0            0.0          0.0   \n",
       "\n",
       "                                            AllActiveSiteRes  \\\n",
       "IRED No.                                                       \n",
       "1          [('204', 'TRP'), ('207', 'GLY'), ('208', 'MET'...   \n",
       "2          [('209', 'TRP'), ('212', 'ALA'), ('213', 'MET'...   \n",
       "\n",
       "                                                   embedding  \\\n",
       "IRED No.                                                       \n",
       "1          [[[0.16993958, -0.03258724, 0.05482708, -0.085...   \n",
       "2          [[[0.16993958, -0.032587238, 0.05482708, -0.08...   \n",
       "\n",
       "                                              em_per_protein  \n",
       "IRED No.                                                      \n",
       "1          [0.040156763, -0.117751405, -0.030865876, 0.09...  \n",
       "2          [0.05249873, -0.11437141, -0.12927642, -0.0184...  "
      ]
     },
     "execution_count": 4,
     "metadata": {},
     "output_type": "execute_result"
    }
   ],
   "source": [
    "s_df.head(2)"
   ]
  },
  {
   "cell_type": "code",
   "execution_count": 5,
   "id": "worst-monthly",
   "metadata": {},
   "outputs": [],
   "source": [
    "X = list(s_df['em_per_protein'])\n",
    "y = s_df['ee']\n",
    "\n",
    "SEED=25\n",
    "X_train, X_test, y_train, y_test = train_test_split(X, y, test_size=0.25, random_state=SEED)"
   ]
  },
  {
   "cell_type": "code",
   "execution_count": 6,
   "id": "super-aside",
   "metadata": {},
   "outputs": [
    {
     "data": {
      "text/plain": [
       "-3.8050571354293723"
      ]
     },
     "execution_count": 6,
     "metadata": {},
     "output_type": "execute_result"
    }
   ],
   "source": [
    "reg = LinearRegression()\n",
    "reg.fit(X_train, y_train)\n",
    "\n",
    "y_pred = reg.predict(X_test)\n",
    "\n",
    "reg.score(X_test, y_test)"
   ]
  },
  {
   "cell_type": "code",
   "execution_count": 7,
   "id": "powerful-separation",
   "metadata": {},
   "outputs": [
    {
     "name": "stdout",
     "output_type": "stream",
     "text": [
      "Coefficients: \n",
      " [-19.244131  -9.689717  48.59618  ...   4.658393 -57.839455 -13.365593]\n",
      "Mean squared error: 4076.53\n",
      "Coefficient of determination: -3.81\n"
     ]
    }
   ],
   "source": [
    "# Make predictions using the testing set\n",
    "y_pred = reg.predict(X_test)\n",
    "\n",
    "# The coefficients\n",
    "print('Coefficients: \\n', reg.coef_)\n",
    "# The mean squared error\n",
    "print('Mean squared error: %.2f'\n",
    "      % mean_squared_error(y_test, y_pred))\n",
    "# The coefficient of determination: 1 is perfect prediction\n",
    "print('Coefficient of determination: %.2f'\n",
    "      % r2_score(y_test, y_pred))"
   ]
  },
  {
   "cell_type": "markdown",
   "id": "mobile-entrepreneur",
   "metadata": {},
   "source": [
    "## Ridge"
   ]
  },
  {
   "cell_type": "code",
   "execution_count": 13,
   "id": "infectious-deficit",
   "metadata": {},
   "outputs": [
    {
     "data": {
      "text/plain": [
       "-0.2742135077412362"
      ]
     },
     "execution_count": 13,
     "metadata": {},
     "output_type": "execute_result"
    }
   ],
   "source": [
    "from sklearn.linear_model import Ridge\n",
    "ridge = Ridge(alpha=1.0)\n",
    "\n",
    "ridge.fit(X_train, y_train)\n",
    "\n",
    "ridge.score(X_test, y_test)"
   ]
  },
  {
   "cell_type": "code",
   "execution_count": 11,
   "id": "changed-laptop",
   "metadata": {
    "scrolled": true
   },
   "outputs": [
    {
     "name": "stdout",
     "output_type": "stream",
     "text": [
      "Mean squared error: 1081.02\n",
      "Coefficient of determination: -0.27\n"
     ]
    }
   ],
   "source": [
    "# Make predictions using the testing set\n",
    "y_pred_ridge = ridge.predict(X_test)\n",
    "\n",
    "# The mean squared error\n",
    "print('Mean squared error: %.2f'\n",
    "      % mean_squared_error(y_test, y_pred_ridge))\n",
    "# The coefficient of determination: 1 is perfect prediction\n",
    "print('Coefficient of determination: %.2f'\n",
    "      % r2_score(y_test, y_pred_ridge))"
   ]
  },
  {
   "cell_type": "markdown",
   "id": "distributed-syracuse",
   "metadata": {},
   "source": [
    "## Lasso"
   ]
  },
  {
   "cell_type": "code",
   "execution_count": 9,
   "id": "spare-citizenship",
   "metadata": {},
   "outputs": [
    {
     "data": {
      "text/plain": [
       "-0.4588849552690044"
      ]
     },
     "execution_count": 9,
     "metadata": {},
     "output_type": "execute_result"
    }
   ],
   "source": [
    "from sklearn.linear_model import Lasso\n",
    "\n",
    "lasso = Lasso(alpha=0.1)\n",
    "\n",
    "lasso.fit(X_train, y_train)\n",
    "\n",
    "lasso.score(X_test, y_test)"
   ]
  },
  {
   "cell_type": "code",
   "execution_count": 12,
   "id": "opening-plaza",
   "metadata": {},
   "outputs": [
    {
     "name": "stdout",
     "output_type": "stream",
     "text": [
      "Mean squared error: 1237.69\n",
      "Coefficient of determination: -0.46\n"
     ]
    }
   ],
   "source": [
    "# Make predictions using the testing set\n",
    "y_pred_lasso = lasso.predict(X_test)\n",
    "\n",
    "# The mean squared error\n",
    "print('Mean squared error: %.2f'\n",
    "      % mean_squared_error(y_test, y_pred_lasso))\n",
    "# The coefficient of determination: 1 is perfect prediction\n",
    "print('Coefficient of determination: %.2f'\n",
    "      % r2_score(y_test, y_pred_lasso))"
   ]
  },
  {
   "cell_type": "code",
   "execution_count": null,
   "id": "conceptual-chambers",
   "metadata": {},
   "outputs": [],
   "source": []
  }
 ],
 "metadata": {
  "kernelspec": {
   "display_name": "Python 3",
   "language": "python",
   "name": "python3"
  },
  "language_info": {
   "codemirror_mode": {
    "name": "ipython",
    "version": 3
   },
   "file_extension": ".py",
   "mimetype": "text/x-python",
   "name": "python",
   "nbconvert_exporter": "python",
   "pygments_lexer": "ipython3",
   "version": "3.8.5"
  }
 },
 "nbformat": 4,
 "nbformat_minor": 5
}
